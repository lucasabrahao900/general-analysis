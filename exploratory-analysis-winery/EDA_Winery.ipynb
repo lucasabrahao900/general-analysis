{
 "cells": [
  {
   "cell_type": "markdown",
   "id": "2b8d4a87",
   "metadata": {},
   "source": [
    "### Análise de Exportação de Vinhos - Brasil"
   ]
  },
  {
   "cell_type": "markdown",
   "id": "233e7c7e",
   "metadata": {},
   "source": [
    "O objetivo do Tech Challenge dessa Fase 1 é utilizar os dados de exportação disponíveis no repositório da embrapa para realizarmos uma análise estatística relacionada ao volume e valores de exportação de vinho do Brasil para o mundo, verificando os dados dos últimos 15 anos e também a influência de diversos fatores na otimização da exportação.  "
   ]
  },
  {
   "cell_type": "code",
   "execution_count": 1,
   "id": "38b871d3",
   "metadata": {},
   "outputs": [
    {
     "data": {
      "text/plain": [
       "'en_US.UTF-8'"
      ]
     },
     "execution_count": 1,
     "metadata": {},
     "output_type": "execute_result"
    }
   ],
   "source": [
    "#Libs que serão utilizadas:\n",
    "import pandas as pd\n",
    "import seaborn as sns\n",
    "import matplotlib.pyplot as plt \n",
    "import numpy as np\n",
    "import re\n",
    "import os \n",
    "import time\n",
    "import locale\n",
    "locale.setlocale(locale.LC_MONETARY, 'en_US.UTF-8')"
   ]
  },
  {
   "cell_type": "markdown",
   "id": "4cbce5ed",
   "metadata": {},
   "source": [
    "Primeiramente iremos carregar os dados obtidos relacionados a exportação de Vinhos no Brasil."
   ]
  },
  {
   "cell_type": "code",
   "execution_count": 2,
   "id": "e66363e4",
   "metadata": {},
   "outputs": [],
   "source": [
    "#Carregando dados:\n",
    "df_exportacao_vinhos = pd.read_csv(\"C:/Users/lucaa/Desktop/Pós Tech Data Analytics/Fase 1/Tech Challenge/Data/content/ExpVinho.csv\", \n",
    "                                   sep = \";\",\n",
    "                                   encoding = 'UTF-8'\n",
    "                                  ) \n",
    "#Verificando primeiros 5 valores:\n",
    "df_exportacao_vinhos = df_exportacao_vinhos.drop(columns = \"Id\")"
   ]
  },
  {
   "cell_type": "markdown",
   "id": "d28c3e99",
   "metadata": {},
   "source": [
    "Podemos ver que os valores das Safras estão se repetindo, isso porque as safras com o sufixo .1 são as quantidades exportadas e as outras colunas são os valores das exportções."
   ]
  },
  {
   "cell_type": "code",
   "execution_count": 3,
   "id": "577a7de8",
   "metadata": {},
   "outputs": [],
   "source": [
    "#Criando nova dataframe de exportação de vinhos:\n",
    "matrix = []\n",
    "for pais in df_exportacao_vinhos[\"País\"]:\n",
    "    for safra in df_exportacao_vinhos.T.reset_index()[\"index\"][1:]:\n",
    "        matrix.append([pais, \n",
    "                       str(np.where(\".1\" in safra, \"Valor (US$)\", \"Quantidade (Kg)\")),\n",
    "                       safra[0:4], \n",
    "                       int(df_exportacao_vinhos[df_exportacao_vinhos[\"País\"] == pais][safra])])\n",
    "df_vinhos_t = pd.DataFrame(matrix, columns = [\"pais\", \"variavel\", \"safra\", \"valor\"])\n",
    "df_vinhos_t[\"safra\"] = df_vinhos_t[\"safra\"].astype(np.int64)\n",
    "\n",
    "#Safras Ultimos 15 Anos:\n",
    "safras_recentes = [x for x in range(2023-15, 2023, 1)]\n",
    "\n",
    "#DataFrame Filtrada:\n",
    "df_vinhos_t = df_vinhos_t.query(\"safra in @safras_recentes\")"
   ]
  },
  {
   "cell_type": "code",
   "execution_count": 4,
   "id": "2310d2e6",
   "metadata": {},
   "outputs": [],
   "source": [
    "#Ajustando Valores:\n",
    "valores_qtdes = df_vinhos_t.query(\"variavel == 'Quantidade (Kg)'\") \\\n",
    "                           .groupby([\"pais\", \"safra\"]) \\\n",
    "                           .sum(\"valor\").reset_index() \\\n",
    "                           .rename(columns = {\"valor\": \"quantidade\"})\n",
    "valores_dinheiro = df_vinhos_t.query(\"variavel == 'Valor (US$)'\") \\\n",
    "                           .groupby([\"pais\", \"safra\"]) \\\n",
    "                           .sum(\"valor\").reset_index()"
   ]
  },
  {
   "cell_type": "code",
   "execution_count": 5,
   "id": "53c52807",
   "metadata": {},
   "outputs": [
    {
     "data": {
      "text/html": [
       "<div>\n",
       "<style scoped>\n",
       "    .dataframe tbody tr th:only-of-type {\n",
       "        vertical-align: middle;\n",
       "    }\n",
       "\n",
       "    .dataframe tbody tr th {\n",
       "        vertical-align: top;\n",
       "    }\n",
       "\n",
       "    .dataframe thead th {\n",
       "        text-align: right;\n",
       "    }\n",
       "</style>\n",
       "<table border=\"1\" class=\"dataframe\">\n",
       "  <thead>\n",
       "    <tr style=\"text-align: right;\">\n",
       "      <th></th>\n",
       "      <th>pais</th>\n",
       "      <th>safra</th>\n",
       "      <th>quantidade</th>\n",
       "      <th>valor</th>\n",
       "    </tr>\n",
       "  </thead>\n",
       "  <tbody>\n",
       "    <tr>\n",
       "      <th>0</th>\n",
       "      <td>Afeganistão</td>\n",
       "      <td>2008</td>\n",
       "      <td>0</td>\n",
       "      <td>0</td>\n",
       "    </tr>\n",
       "    <tr>\n",
       "      <th>1</th>\n",
       "      <td>Afeganistão</td>\n",
       "      <td>2009</td>\n",
       "      <td>0</td>\n",
       "      <td>0</td>\n",
       "    </tr>\n",
       "    <tr>\n",
       "      <th>2</th>\n",
       "      <td>Afeganistão</td>\n",
       "      <td>2010</td>\n",
       "      <td>0</td>\n",
       "      <td>0</td>\n",
       "    </tr>\n",
       "    <tr>\n",
       "      <th>3</th>\n",
       "      <td>Afeganistão</td>\n",
       "      <td>2011</td>\n",
       "      <td>0</td>\n",
       "      <td>0</td>\n",
       "    </tr>\n",
       "    <tr>\n",
       "      <th>4</th>\n",
       "      <td>Afeganistão</td>\n",
       "      <td>2012</td>\n",
       "      <td>0</td>\n",
       "      <td>0</td>\n",
       "    </tr>\n",
       "  </tbody>\n",
       "</table>\n",
       "</div>"
      ],
      "text/plain": [
       "          pais  safra  quantidade  valor\n",
       "0  Afeganistão   2008           0      0\n",
       "1  Afeganistão   2009           0      0\n",
       "2  Afeganistão   2010           0      0\n",
       "3  Afeganistão   2011           0      0\n",
       "4  Afeganistão   2012           0      0"
      ]
     },
     "execution_count": 5,
     "metadata": {},
     "output_type": "execute_result"
    }
   ],
   "source": [
    "#Unindo tudo:\n",
    "df_vinhos_ajustada = df_vinhos_t[[\"pais\", \"safra\"]].drop_duplicates() \\\n",
    "                              .set_index([\"pais\", \"safra\"]) \\\n",
    "                              .join(valores_qtdes.set_index([\"pais\", \"safra\"]), on = [\"pais\", \"safra\"], how = \"left\") \\\n",
    "                              .join(valores_dinheiro.set_index([\"pais\", \"safra\"]), on = [\"pais\", \"safra\"], how = \"left\") \\\n",
    "                              .reset_index()\n",
    "df_vinhos_ajustada.head()"
   ]
  },
  {
   "cell_type": "markdown",
   "id": "bfcec66b",
   "metadata": {},
   "source": [
    "Podemos ver que agora as Safras estão filtradas somente para os últimos 15 Anos, facilitando a visualização dos dados por país. Além disso, todas as colunas de valores já estão em formato número, o que ajuda nas análises quantitativas."
   ]
  },
  {
   "cell_type": "markdown",
   "id": "72b089a8",
   "metadata": {},
   "source": [
    "#### Análise Descritiva"
   ]
  },
  {
   "cell_type": "markdown",
   "id": "f98febb5",
   "metadata": {},
   "source": [
    "Vamos elencar alguns pontos primeiramente do que precisamos analisar e algumas hipóteses:\n",
    "\n",
    "- Quais são os países com maior volume de exportação? E em Valor?\n",
    "- Como são as Safras de Exportações mês a mês em média\n",
    "- Algum país começou a ganhar destaque recentemente?"
   ]
  },
  {
   "cell_type": "markdown",
   "id": "66cf0d12",
   "metadata": {},
   "source": [
    "Primeiramente, vamos verificar qual o volume total exportado nos últimos 15 anos e o total de países nessa etapa."
   ]
  },
  {
   "cell_type": "code",
   "execution_count": 7,
   "id": "da4a4bf9",
   "metadata": {},
   "outputs": [
    {
     "name": "stdout",
     "output_type": "stream",
     "text": [
      "Paises: 124, Total Qtde (Kg): 80,956,449, Total Valor (US$): $101,699,034.00\n"
     ]
    }
   ],
   "source": [
    "#Total de Paises:\n",
    "total_paises = df_vinhos_ajustada[\"pais\"].drop_duplicates().count()\n",
    "#Total Qtde Exportada:\n",
    "total_qtde = df_vinhos_ajustada[\"quantidade\"].sum()\n",
    "#Total Valor Exportado:\n",
    "total_valor = df_vinhos_ajustada[\"valor\"].sum()\n",
    "print(\n",
    "    \"Paises: {}, Total Qtde (Kg): {:,}, Total Valor (US$): {}\".format(total_paises,\n",
    "                                                                      total_qtde,\n",
    "                                                                      locale.currency(total_valor, grouping=True))\n",
    ")"
   ]
  },
  {
   "cell_type": "markdown",
   "id": "207ad505",
   "metadata": {},
   "source": [
    "Claramente temos um volume bem alto de exportação, entretanto, são muitos países e seria dificil visualizar todos eles em gráficos adequados, dessa forma iremos verificar se existe uma assimetria na distribuição das exportações para podermos criar sub-categorias dos países."
   ]
  },
  {
   "cell_type": "code",
   "execution_count": 8,
   "id": "f93ec36b",
   "metadata": {},
   "outputs": [],
   "source": [
    "#Valores Agregados por Paises:\n",
    "df_agregada_pais = df_vinhos_ajustada.drop(columns = \"safra\").groupby(\"pais\") \\\n",
    "                                     .sum([\"quantidade\", \"valor\"]).reset_index()\n",
    "\n",
    "#Participação por Pais:\n",
    "df_agregada_pais[\"% por Qtde\"] = round(df_agregada_pais[\"quantidade\"] / total_qtde, 3)\n",
    "df_agregada_pais[\"% por Valor\"] = round(df_agregada_pais[\"valor\"] / total_valor, 3)\n",
    "df_agregada_pais = df_agregada_pais.sort_values(\"% por Qtde\", ascending = False)\n",
    "df_agregada_pais[\"% Acum. Qtde\"] = np.cumsum(df_agregada_pais[\"% por Qtde\"])\n",
    "df_agregada_pais[\"% Acum. Valor\"] = np.cumsum(df_agregada_pais[\"% por Valor\"])\n",
    "df_agregada_pais[\"id\"] = [i for i in range(1, len(df_agregada_pais)+1)]"
   ]
  },
  {
   "cell_type": "code",
   "execution_count": 9,
   "id": "8299eca5",
   "metadata": {},
   "outputs": [
    {
     "data": {
      "text/plain": [
       "<matplotlib.lines.Line2D at 0x253fd9f3400>"
      ]
     },
     "execution_count": 9,
     "metadata": {},
     "output_type": "execute_result"
    },
    {
     "data": {
      "image/png": "[encoded data removed]",
      "text/plain": [
       "<Figure size 432x288 with 1 Axes>"
      ]
     },
     "metadata": {
      "needs_background": "light"
     },
     "output_type": "display_data"
    }
   ],
   "source": [
    "plot = df_agregada_pais.plot(x = \"id\", y = \"% Acum. Qtde\", kind = \"line\")\n",
    "plot.axhline(0.99, color = \"red\")\n",
    "plot.axvline(41, color = \"red\")"
   ]
  },
  {
   "cell_type": "markdown",
   "id": "04f9c7d3",
   "metadata": {},
   "source": [
    "Dá para ver de forma clara que apesar de termos dados de 124 países, menos de 20 contribuem para informações sobre exportações de maneira relevante. Além disso, se pegarmos até os 41 paises, temos aproximadamente 99% da soma acumulada das quantidades e valores totais de exportação de vinhos. Com isso, podemos criar uma sub-categoria de pais, agrupando todos os paises restantes em um grupo chamado \"Demais Paises\". \n",
    "\n",
    "- Se o Id do País for <= 41, mantemos o país, caso contrário, será agrupado em Outros"
   ]
  },
  {
   "cell_type": "code",
   "execution_count": 10,
   "id": "48982aad",
   "metadata": {},
   "outputs": [],
   "source": [
    "#Nova Distribuição dos Paises:\n",
    "paises_top_exportadores = list(df_agregada_pais.query(\"id <= 41\")[\"pais\"])\n",
    "df_vinhos_ajustada[\"categoria_pais\"] = [x if x in paises_top_exportadores \n",
    "                                        else \"Demais Paises\" \n",
    "                                        for x in df_vinhos_ajustada[\"pais\"]]"
   ]
  },
  {
   "cell_type": "markdown",
   "id": "d325a32c",
   "metadata": {},
   "source": [
    "Agora que temos os países reduzidos a 21 categorias menores, podemso visualizar de forma mais facilitada as informações. "
   ]
  },
  {
   "cell_type": "code",
   "execution_count": 11,
   "id": "e721edeb",
   "metadata": {},
   "outputs": [],
   "source": [
    "#Grafico do Total exportado:\n",
    "somas_totais_paises = df_vinhos_ajustada[[\"categoria_pais\", \"quantidade\", \"valor\"]]. \\\n",
    "                      groupby(\"categoria_pais\").sum([\"quantidade\", \"valor\"]).reset_index()"
   ]
  },
  {
   "cell_type": "code",
   "execution_count": 12,
   "id": "c917b628",
   "metadata": {},
   "outputs": [
    {
     "data": {
      "image/png": "[encoded data removed]",
      "text/plain": [
       "<Figure size 936x432 with 1 Axes>"
      ]
     },
     "metadata": {
      "needs_background": "light"
     },
     "output_type": "display_data"
    }
   ],
   "source": [
    "somas_totais_paises = somas_totais_paises.sort_values(\"quantidade\", ascending=False)\n",
    "\n",
    "#Grafico da Qtde de Exportação:\n",
    "plt.figure(figsize = (13, 6))\n",
    "media = np.mean(somas_totais_paises[\"quantidade\"])\n",
    "cor_media = [\"red\" if x > media else \"grey\" for x in somas_totais_paises[\"quantidade\"]]\n",
    "plot = sns.barplot(x = 'categoria_pais', y = 'quantidade', data = somas_totais_paises, palette = cor_media)\n",
    "plt.xticks(rotation = 45, ha='right')\n",
    "plot.yaxis.set_major_formatter('{x:,}')\n",
    "plt.ylabel(ylabel = \"Quantidade (Kg)\")\n",
    "plt.xlabel(xlabel = \"País\")\n",
    "plot.axhline(np.mean(somas_totais_paises[\"quantidade\"]), label = \"Média Quantidade (Kg)\")\n",
    "plt.legend()\n",
    "plt.title(\"Exportação em Qtde (Kg) por País\")\n",
    "plt.show()"
   ]
  },
  {
   "cell_type": "markdown",
   "id": "066f8aca",
   "metadata": {},
   "source": [
    "- Como destacado anteriormente no gráfico das somas acumuladas, a distribuição das quantidades de exportações por paises nos últimos 15 anos é bem assimétrica, apenas 8 paises ficam acima ou iguais a média geral exportada dos 124 paises."
   ]
  },
  {
   "cell_type": "code",
   "execution_count": 13,
   "id": "46944e18",
   "metadata": {
    "scrolled": false
   },
   "outputs": [
    {
     "data": {
      "image/png": "[encoded data removed]",
      "text/plain": [
       "<Figure size 936x432 with 1 Axes>"
      ]
     },
     "metadata": {
      "needs_background": "light"
     },
     "output_type": "display_data"
    }
   ],
   "source": [
    "somas_totais_paises = somas_totais_paises.sort_values(\"valor\", ascending=False)\n",
    "\n",
    "#Grafico da Quantidade de Exportação:\n",
    "plt.figure(figsize = (13, 6))\n",
    "media = np.mean(somas_totais_paises[\"valor\"])\n",
    "cor_media = [\"red\" if x > media else \"grey\" for x in somas_totais_paises[\"valor\"]]\n",
    "plot = sns.barplot(x = 'categoria_pais', y = 'valor', data = somas_totais_paises, palette = cor_media)\n",
    "plt.xticks(rotation = 45, ha='right')\n",
    "plot.yaxis.set_major_formatter('US${x:,}')\n",
    "plt.ylabel(ylabel = \"Valor (US$)\")\n",
    "plt.xlabel(xlabel = \"País\")\n",
    "plot.axhline(np.mean(somas_totais_paises[\"valor\"]), label = \"Média Valor (US$)\")\n",
    "plt.legend()\n",
    "plt.title(\"Exportação em Valor (US$) por País\")\n",
    "plt.show()"
   ]
  },
  {
   "cell_type": "markdown",
   "id": "afe00808",
   "metadata": {},
   "source": [
    "- O mesmo vale para os valores totais exportados por país nos últimos 15 anos."
   ]
  },
  {
   "cell_type": "markdown",
   "id": "85abf8e9",
   "metadata": {},
   "source": [
    "Qualquer gráfico que envolva legendas com os países não será fácil de visualizar, dessa forma, podemos sempre verificar os principais paises do nosso conjunto ou adicionar a informação dos continentes."
   ]
  },
  {
   "cell_type": "markdown",
   "id": "c58c97a0",
   "metadata": {},
   "source": [
    "### Análises Temporais"
   ]
  },
  {
   "cell_type": "code",
   "execution_count": 14,
   "id": "565e3ee4",
   "metadata": {},
   "outputs": [],
   "source": [
    "#Pivotando Tabela para Plotarmos Quantidade e Valor Juntos:\n",
    "df_safras_medias = df_vinhos_ajustada.groupby(\"safra\")[[\"quantidade\", \"valor\"]] \\\n",
    "    .agg({'quantidade': \"sum\", \"valor\": \"sum\"}) \\\n",
    "    .reset_index()\n",
    "#df_safras_medias = df_safras_medias.melt(id_vars = ['safra'], value_vars = ['quantidade', 'valor'])"
   ]
  },
  {
   "cell_type": "code",
   "execution_count": 15,
   "id": "091e7e5b",
   "metadata": {},
   "outputs": [
    {
     "data": {
      "image/png": "[encoded data removed]",
      "text/plain": [
       "<Figure size 864x432 with 2 Axes>"
      ]
     },
     "metadata": {
      "needs_background": "light"
     },
     "output_type": "display_data"
    }
   ],
   "source": [
    "plt.figure(figsize = (12, 6))\n",
    "\n",
    "#Axis 1 - Quantidade:\n",
    "plot_qtde = sns.lineplot(x = \"safra\", y = \"quantidade\",\n",
    "                  legend=True, data = df_safras_medias, marker = \"o\", label = \"Quantidade (L)\")\n",
    "plot_qtde.yaxis.set_major_formatter('{x:,}')\n",
    "plt.ylabel(ylabel = \"Quantidade (L)\")\n",
    "plt.xlabel(xlabel = \"Safra\")\n",
    "plt.legend(bbox_to_anchor=(1.0, 1.02), loc='upper right', borderaxespad=1)\n",
    "ax2 = plot_qtde.twinx()\n",
    "\n",
    "#Axis 2 - Valor:\n",
    "plot_valor = sns.lineplot(x = \"safra\", y = \"valor\", ax = ax2, \n",
    "             legend=True, data = df_safras_medias, color = \"r\", marker = \"o\", label = \"Valor (US$)\")\n",
    "plot_valor.yaxis.set_major_formatter('US${x:,}')\n",
    "plt.ylabel(ylabel = \"Valor (US$)\")\n",
    "plt.xlabel(xlabel = \"Safra\")\n",
    "plt.legend(bbox_to_anchor=(1, 1.01), loc='upper right', borderaxespad=3)\n",
    "plt.show()"
   ]
  },
  {
   "cell_type": "code",
   "execution_count": 67,
   "id": "2e9d9640",
   "metadata": {},
   "outputs": [],
   "source": [
    "#Calculando Crescimento Anual da Quantidade:\n",
    "cresc_safra = [None]\n",
    "for i in range(1, len(df_safras_medias)):\n",
    "    c = (df_safras_medias[\"quantidade\"][i] / df_safras_medias[\"quantidade\"][i-1]) - 1\n",
    "    cresc_safra.append(c)"
   ]
  },
  {
   "cell_type": "code",
   "execution_count": 17,
   "id": "2a8810f7",
   "metadata": {},
   "outputs": [],
   "source": [
    "#Crescimento Anual do Paraguai:\n",
    "df_safras_medias[\"% Crescimento Anual\"] = cresc_safra\n",
    "\n",
    "#Pallete Colors:\n",
    "cols_cresc = ['red' if x < 0 else 'green' for x in cresc_safra[1:]]\n",
    "cols_cresc.insert(0, \"green\")"
   ]
  },
  {
   "cell_type": "code",
   "execution_count": 18,
   "id": "612c487c",
   "metadata": {},
   "outputs": [
    {
     "name": "stderr",
     "output_type": "stream",
     "text": [
      "C:\\Users\\lucaa\\AppData\\Local\\Temp\\ipykernel_8864\\2831513690.py:8: UserWarning: FixedFormatter should only be used together with FixedLocator\n",
      "  ax.set_yticklabels(['{:,.0%}'.format(x) for x in vals])\n"
     ]
    },
    {
     "data": {
      "text/plain": [
       "[Text(0, -2.0, '-200%'),\n",
       " Text(0, -1.0, '-100%'),\n",
       " Text(0, 0.0, '0%'),\n",
       " Text(0, 1.0, '100%'),\n",
       " Text(0, 2.0, '200%'),\n",
       " Text(0, 3.0, '300%'),\n",
       " Text(0, 4.0, '400%')]"
      ]
     },
     "execution_count": 18,
     "metadata": {},
     "output_type": "execute_result"
    },
    {
     "data": {
      "image/png": "[encoded data removed]",
      "text/plain": [
       "<Figure size 864x432 with 1 Axes>"
      ]
     },
     "metadata": {
      "needs_background": "light"
     },
     "output_type": "display_data"
    }
   ],
   "source": [
    "#Plotando o crescimento anual:\n",
    "plt.figure(figsize = (12, 6))\n",
    "ax = sns.barplot(x = \"safra\", y = \"% Crescimento Anual\", data = df_safras_medias, palette = cols_cresc)\n",
    "plt.ylabel(ylabel = \"% Crescimento Anual\")\n",
    "plt.xlabel(xlabel = \"Safra\")\n",
    "# manipulate\n",
    "vals = ax.get_yticks()\n",
    "ax.set_yticklabels(['{:,.0%}'.format(x) for x in vals])"
   ]
  },
  {
   "cell_type": "markdown",
   "id": "abe8cb39",
   "metadata": {},
   "source": [
    "Quando avaliamos a série completa, não observamos tendências evidentes nas exportações de vinhos, tanto em valor quanto em quantidade. Entretanto, podemos ver que os anos de 2008 e 2013 são discrepantes em relação as demais séries, caso esses anos sejam descartados, temos uma leve tendência positiva das médias anuais das quantidades e valores de exportações, chegando no maior valor em 2021, exportando aprox. 80 Mil Kg de vinho. \n",
    "\n",
    "Essa série leva em consideração a média anual de todos os paises, e, para verificarmos se essa tendência positiva observada de 2016 a 2021 é geral ou especifica para alguns paises, precisamos avaliar as séries individuais dos paises. Ainda mais pelo fato de termos uma distribuição nos valores muito assimétrica, isto é, concentração das exportações em poucos paises. "
   ]
  },
  {
   "cell_type": "code",
   "execution_count": 19,
   "id": "358451a9",
   "metadata": {},
   "outputs": [],
   "source": [
    "#Continentes:\n",
    "df_continentes = pd.read_excel(\"C:/Users/lucaa/Desktop/Pós Tech Data Analytics/Fase 1/Tech Challenge/Data/content/continentes.xlsx\")"
   ]
  },
  {
   "cell_type": "code",
   "execution_count": 57,
   "id": "9cbf1481",
   "metadata": {},
   "outputs": [
    {
     "data": {
      "text/html": [
       "<div>\n",
       "<style scoped>\n",
       "    .dataframe tbody tr th:only-of-type {\n",
       "        vertical-align: middle;\n",
       "    }\n",
       "\n",
       "    .dataframe tbody tr th {\n",
       "        vertical-align: top;\n",
       "    }\n",
       "\n",
       "    .dataframe thead th {\n",
       "        text-align: right;\n",
       "    }\n",
       "</style>\n",
       "<table border=\"1\" class=\"dataframe\">\n",
       "  <thead>\n",
       "    <tr style=\"text-align: right;\">\n",
       "      <th></th>\n",
       "      <th>continente</th>\n",
       "      <th>safra</th>\n",
       "      <th>quantidade</th>\n",
       "      <th>valor</th>\n",
       "    </tr>\n",
       "  </thead>\n",
       "  <tbody>\n",
       "    <tr>\n",
       "      <th>0</th>\n",
       "      <td>América Central</td>\n",
       "      <td>2008</td>\n",
       "      <td>0</td>\n",
       "      <td>0</td>\n",
       "    </tr>\n",
       "    <tr>\n",
       "      <th>1</th>\n",
       "      <td>América Central</td>\n",
       "      <td>2009</td>\n",
       "      <td>24</td>\n",
       "      <td>24</td>\n",
       "    </tr>\n",
       "    <tr>\n",
       "      <th>2</th>\n",
       "      <td>América Central</td>\n",
       "      <td>2010</td>\n",
       "      <td>0</td>\n",
       "      <td>0</td>\n",
       "    </tr>\n",
       "    <tr>\n",
       "      <th>3</th>\n",
       "      <td>América Central</td>\n",
       "      <td>2011</td>\n",
       "      <td>0</td>\n",
       "      <td>0</td>\n",
       "    </tr>\n",
       "    <tr>\n",
       "      <th>4</th>\n",
       "      <td>América Central</td>\n",
       "      <td>2012</td>\n",
       "      <td>0</td>\n",
       "      <td>0</td>\n",
       "    </tr>\n",
       "  </tbody>\n",
       "</table>\n",
       "</div>"
      ],
      "text/plain": [
       "        continente  safra  quantidade  valor\n",
       "0  América Central   2008           0      0\n",
       "1  América Central   2009          24     24\n",
       "2  América Central   2010           0      0\n",
       "3  América Central   2011           0      0\n",
       "4  América Central   2012           0      0"
      ]
     },
     "execution_count": 57,
     "metadata": {},
     "output_type": "execute_result"
    }
   ],
   "source": [
    "#Séries Individuais:\n",
    "df_serie_individual = df_vinhos_ajustada[[\"pais\", \"safra\", \"quantidade\", \"valor\"]] \\\n",
    "    .merge(df_continentes, on = \"pais\", how = \"left\") \\\n",
    "    .groupby([\"continente\", \"safra\"])[[\"quantidade\", \"valor\"]] \\\n",
    "    .agg({\"quantidade\": \"sum\", \"valor\": \"sum\"}) \\\n",
    "    .reset_index()\n",
    "df_serie_individual.head()"
   ]
  },
  {
   "cell_type": "code",
   "execution_count": 58,
   "id": "3e912a6d",
   "metadata": {},
   "outputs": [
    {
     "data": {
      "text/plain": [
       "<matplotlib.legend.Legend at 0x25382ef7dc0>"
      ]
     },
     "execution_count": 58,
     "metadata": {},
     "output_type": "execute_result"
    },
    {
     "data": {
      "image/png": "[encoded data removed]",
      "text/plain": [
       "<Figure size 864x432 with 1 Axes>"
      ]
     },
     "metadata": {
      "needs_background": "light"
     },
     "output_type": "display_data"
    }
   ],
   "source": [
    "plt.figure(figsize = (12, 6))\n",
    "\n",
    "#Axis 1 - Quantidade - Individual:\n",
    "plot_qtde_ind = sns.lineplot(x = \"safra\", y = \"quantidade\",\n",
    "                  legend=True, data = df_serie_individual, marker = \"o\", hue = \"continente\")\n",
    "plot_qtde_ind.yaxis.set_major_formatter('{x:,}')\n",
    "plt.ylabel(ylabel = \"Quantidade (L)\")\n",
    "plt.xlabel(xlabel = \"Safra\")\n",
    "plt.legend(bbox_to_anchor=(1.0, 1.02), loc='upper right', borderaxespad=1)\n",
    "#ax2 = plot_qtde.twinx()"
   ]
  },
  {
   "cell_type": "markdown",
   "id": "a4817a99",
   "metadata": {},
   "source": [
    "Com essa visualização podemos verificar que aqueles pontos discrepantes na série geral são de responsabilidade da Europa, enquanto que a tendência positiva dos últimos 5 anos parece ser bastante influenciada pelas exportações para paises da América do Sul. \n",
    "\n",
    "Além disso, devido as escalas e o ponto discrepante da Europa em 2013, fica dificíl visualizar a tendência dos demais continentes. Logo, vamos verificar somente os últimos 5 anos da série."
   ]
  },
  {
   "cell_type": "code",
   "execution_count": 59,
   "id": "7fec1e5a",
   "metadata": {},
   "outputs": [
    {
     "data": {
      "text/plain": [
       "<matplotlib.legend.Legend at 0x25384455660>"
      ]
     },
     "execution_count": 59,
     "metadata": {},
     "output_type": "execute_result"
    },
    {
     "data": {
      "image/png": "[encoded data removed]",
      "text/plain": [
       "<Figure size 864x432 with 1 Axes>"
      ]
     },
     "metadata": {
      "needs_background": "light"
     },
     "output_type": "display_data"
    }
   ],
   "source": [
    "plt.figure(figsize = (12, 6))\n",
    "\n",
    "df_serie_individual_5anos = df_serie_individual.query(\"safra >= 2015\")\n",
    "\n",
    "#Axis 1 - Quantidade - Individual:\n",
    "plot_qtde_5anos = sns.lineplot(x = \"safra\", y = \"quantidade\",\n",
    "                  legend=True, data = df_serie_individual_5anos, marker = \"o\", hue = \"continente\")\n",
    "plot_qtde_5anos.yaxis.set_major_formatter('{x:,}')\n",
    "plt.ylabel(ylabel = \"Quantidade (L)\")\n",
    "plt.xlabel(xlabel = \"Safra\")\n",
    "plt.legend(bbox_to_anchor=(1.0, 1.02), loc='best', borderaxespad=1)"
   ]
  },
  {
   "cell_type": "markdown",
   "id": "42a69eb2",
   "metadata": {},
   "source": [
    "De fato, os paises da América do Sul são os responsáveis pelo crescimento das exportações, visto que os demais continentes apresentam valores constantes nos últimos anos. Essa informação pode ser relevante para nós para tentarmos entender o porque esses paises apresentam um total constante e entender também o porque a exportação para paises próximos está melhor que para os demais. "
   ]
  },
  {
   "cell_type": "markdown",
   "id": "af2370e1",
   "metadata": {},
   "source": [
    "### Explorando dados de Clima"
   ]
  },
  {
   "cell_type": "markdown",
   "id": "b0d0bf7e",
   "metadata": {},
   "source": [
    "Foram extraidos dados climáticos de 2013 em diante da região de bento gonçalves para verificarmos potenciais relações entre os totais de exportações e os dados climáticos anuais. Isso é importante, pois de acordo com  a produção de vinho requer muito trabalho, dedicação e conhecimento. Para produzir vinhos de alta qualidade, é preciso estar atento às condições meteorológicas, pois elas podem influenciar diretamente na qualidade e no sabor do vinho. É aí que entra a Estação Meteorológica, uma ferramenta importante para vinícolas que desejam ter um controle maior sobre o clima em sua região. "
   ]
  },
  {
   "cell_type": "code",
   "execution_count": 23,
   "id": "bf70f78f",
   "metadata": {},
   "outputs": [],
   "source": [
    "df_clima = pd.read_excel(\"C:/Users/lucaa/Desktop/Pós Tech Data Analytics/Fase 1/Tech Challenge/Data/content/ClimaBentoGoncalves.xlsx\")"
   ]
  },
  {
   "cell_type": "code",
   "execution_count": 24,
   "id": "3d0c466d",
   "metadata": {},
   "outputs": [],
   "source": [
    "df_clima = df_clima \\\n",
    "    .groupby(\"Ano\") \\\n",
    "    .agg({\"Tmin\": \"mean\",\n",
    "          \"Tmax\": \"mean\",\n",
    "          \"Tmed\": \"mean\",\n",
    "          \"Precipitacao (mm)\": \"mean\"}) \\\n",
    "    .reset_index()"
   ]
  },
  {
   "cell_type": "code",
   "execution_count": 25,
   "id": "c122f677",
   "metadata": {},
   "outputs": [],
   "source": [
    "#Dados de Produção de Vinhos:\n",
    "df_prod = pd.read_csv(\"C:/Users/lucaa/Desktop/Pós Tech Data Analytics/Fase 1/Tech Challenge/Data/content/Producao.csv\", \n",
    "                      sep = \";\", header = None)\n",
    "colunas_prod = [str(x) for x in range(1970, 2022, 1)]\n",
    "colunas_prod.insert(0, \"index\")\n",
    "colunas_prod.insert(1, \"codigo_produto\")\n",
    "colunas_prod.insert(2, \"descricao_produto\")\n",
    "df_prod.columns = colunas_prod\n",
    "\n",
    "#Filtrando somente Vinhos de Mesa:\n",
    "df_prod = df_prod.query(\"codigo_produto in ['VINHO DE MESA', 'VINHO FINO DE MESA (VINÍFERA)']\") \\\n",
    "                 .drop(columns = [\"index\"])"
   ]
  },
  {
   "cell_type": "code",
   "execution_count": 26,
   "id": "fc44dfc2",
   "metadata": {},
   "outputs": [
    {
     "name": "stdout",
     "output_type": "stream",
     "text": [
      "VINHO DE MESA\n",
      "VINHO FINO DE MESA (VINÍFERA)\n"
     ]
    },
    {
     "data": {
      "text/html": [
       "<div>\n",
       "<style scoped>\n",
       "    .dataframe tbody tr th:only-of-type {\n",
       "        vertical-align: middle;\n",
       "    }\n",
       "\n",
       "    .dataframe tbody tr th {\n",
       "        vertical-align: top;\n",
       "    }\n",
       "\n",
       "    .dataframe thead th {\n",
       "        text-align: right;\n",
       "    }\n",
       "</style>\n",
       "<table border=\"1\" class=\"dataframe\">\n",
       "  <thead>\n",
       "    <tr style=\"text-align: right;\">\n",
       "      <th></th>\n",
       "      <th>codigo_produto</th>\n",
       "      <th>safra</th>\n",
       "      <th>quantidade</th>\n",
       "    </tr>\n",
       "  </thead>\n",
       "  <tbody>\n",
       "    <tr>\n",
       "      <th>0</th>\n",
       "      <td>VINHO DE MESA</td>\n",
       "      <td>2008</td>\n",
       "      <td>287506811</td>\n",
       "    </tr>\n",
       "    <tr>\n",
       "      <th>1</th>\n",
       "      <td>VINHO DE MESA</td>\n",
       "      <td>2009</td>\n",
       "      <td>205418206</td>\n",
       "    </tr>\n",
       "    <tr>\n",
       "      <th>2</th>\n",
       "      <td>VINHO DE MESA</td>\n",
       "      <td>2010</td>\n",
       "      <td>195267980</td>\n",
       "    </tr>\n",
       "    <tr>\n",
       "      <th>3</th>\n",
       "      <td>VINHO DE MESA</td>\n",
       "      <td>2011</td>\n",
       "      <td>257840749</td>\n",
       "    </tr>\n",
       "    <tr>\n",
       "      <th>4</th>\n",
       "      <td>VINHO DE MESA</td>\n",
       "      <td>2012</td>\n",
       "      <td>212777037</td>\n",
       "    </tr>\n",
       "  </tbody>\n",
       "</table>\n",
       "</div>"
      ],
      "text/plain": [
       "  codigo_produto  safra  quantidade\n",
       "0  VINHO DE MESA   2008   287506811\n",
       "1  VINHO DE MESA   2009   205418206\n",
       "2  VINHO DE MESA   2010   195267980\n",
       "3  VINHO DE MESA   2011   257840749\n",
       "4  VINHO DE MESA   2012   212777037"
      ]
     },
     "execution_count": 26,
     "metadata": {},
     "output_type": "execute_result"
    }
   ],
   "source": [
    "#Ajustando a Tabela de Produção:\n",
    "df_prod_safrada = pd.DataFrame()\n",
    "for i in range(2):\n",
    "    print(df_prod[\"codigo_produto\"].values[i])\n",
    "    if df_prod[\"codigo_produto\"].values[i] == 'VINHO DE MESA':\n",
    "        c = 0\n",
    "    else: c = 4\n",
    "    temp = df_prod.T.reset_index()[2:][[\"index\", c]]\n",
    "    temp.columns = [\"safra\", \"quantidade\"]\n",
    "    temp[\"codigo_produto\"] = df_prod[\"codigo_produto\"].values[i]\n",
    "    df_prod_safrada = pd.concat([\n",
    "        df_prod_safrada,\n",
    "        temp[[\"codigo_produto\", \"safra\", \"quantidade\"]] \n",
    "    ])\n",
    "df_prod_safrada[\"safra\"] = df_prod_safrada[\"safra\"].astype(int)\n",
    "df_prod_safrada[\"quantidade\"] = df_prod_safrada[\"quantidade\"].astype(int)\n",
    "\n",
    "#Filtrando Safras Recentes:\n",
    "df_prod_safrada = df_prod_safrada.query('safra >= 2008') \\\n",
    "    .reset_index() \\\n",
    "    .drop(columns = [\"index\"])\n",
    "df_prod_safrada.head()"
   ]
  },
  {
   "cell_type": "code",
   "execution_count": 27,
   "id": "97140e19",
   "metadata": {},
   "outputs": [
    {
     "data": {
      "text/plain": [
       "Text(0.5, 0, 'Safra')"
      ]
     },
     "execution_count": 27,
     "metadata": {},
     "output_type": "execute_result"
    },
    {
     "data": {
      "image/png": "[encoded data removed]",
      "text/plain": [
       "<Figure size 864x432 with 1 Axes>"
      ]
     },
     "metadata": {
      "needs_background": "light"
     },
     "output_type": "display_data"
    }
   ],
   "source": [
    "plt.figure(figsize = (12, 6))\n",
    "\n",
    "#Séries das Produções:\n",
    "plot_prod = sns.lineplot(x = \"safra\", y = \"quantidade\",\n",
    "                  legend=True, data = df_prod_safrada, marker = \"o\", hue = \"codigo_produto\")\n",
    "plot_prod.yaxis.set_major_formatter('{x:,}')\n",
    "plt.ylabel(ylabel = \"Quantidade (Kg)\")\n",
    "plt.xlabel(xlabel = \"Safra\")"
   ]
  },
  {
   "cell_type": "markdown",
   "id": "09a48da2",
   "metadata": {},
   "source": [
    "Pela série acima podemos ver que as séries das produções por tipo de vinho apresentam comportamentos semelhantes, entretanto vinhos de mesas apresentaram quedas mais acentuadas em relação a algns anos, como 2009, 2010, 2019 e 2020. Uma das hipóteses que podemos verificar é a relação das produções pelos dados climáticos que coletamos."
   ]
  },
  {
   "cell_type": "code",
   "execution_count": 28,
   "id": "9a7cdb24",
   "metadata": {},
   "outputs": [
    {
     "data": {
      "text/html": [
       "<div>\n",
       "<style scoped>\n",
       "    .dataframe tbody tr th:only-of-type {\n",
       "        vertical-align: middle;\n",
       "    }\n",
       "\n",
       "    .dataframe tbody tr th {\n",
       "        vertical-align: top;\n",
       "    }\n",
       "\n",
       "    .dataframe thead th {\n",
       "        text-align: right;\n",
       "    }\n",
       "</style>\n",
       "<table border=\"1\" class=\"dataframe\">\n",
       "  <thead>\n",
       "    <tr style=\"text-align: right;\">\n",
       "      <th></th>\n",
       "      <th>safra</th>\n",
       "      <th>quantidade</th>\n",
       "      <th>Ano</th>\n",
       "      <th>Tmin</th>\n",
       "      <th>Tmax</th>\n",
       "      <th>Tmed</th>\n",
       "      <th>Precipitacao (mm)</th>\n",
       "    </tr>\n",
       "  </thead>\n",
       "  <tbody>\n",
       "    <tr>\n",
       "      <th>0</th>\n",
       "      <td>2013</td>\n",
       "      <td>242686752</td>\n",
       "      <td>2013</td>\n",
       "      <td>12.533333</td>\n",
       "      <td>22.341667</td>\n",
       "      <td>17.016667</td>\n",
       "      <td>164.000000</td>\n",
       "    </tr>\n",
       "    <tr>\n",
       "      <th>1</th>\n",
       "      <td>2014</td>\n",
       "      <td>234637437</td>\n",
       "      <td>2014</td>\n",
       "      <td>14.166667</td>\n",
       "      <td>23.466667</td>\n",
       "      <td>18.183333</td>\n",
       "      <td>170.250000</td>\n",
       "    </tr>\n",
       "    <tr>\n",
       "      <th>2</th>\n",
       "      <td>2015</td>\n",
       "      <td>247457542</td>\n",
       "      <td>2015</td>\n",
       "      <td>14.291667</td>\n",
       "      <td>22.950000</td>\n",
       "      <td>18.016667</td>\n",
       "      <td>164.333333</td>\n",
       "    </tr>\n",
       "    <tr>\n",
       "      <th>3</th>\n",
       "      <td>2016</td>\n",
       "      <td>104389641</td>\n",
       "      <td>2016</td>\n",
       "      <td>13.116667</td>\n",
       "      <td>22.558333</td>\n",
       "      <td>17.200000</td>\n",
       "      <td>148.000000</td>\n",
       "    </tr>\n",
       "    <tr>\n",
       "      <th>4</th>\n",
       "      <td>2017</td>\n",
       "      <td>299553057</td>\n",
       "      <td>2017</td>\n",
       "      <td>14.141667</td>\n",
       "      <td>23.466667</td>\n",
       "      <td>18.250000</td>\n",
       "      <td>155.250000</td>\n",
       "    </tr>\n",
       "    <tr>\n",
       "      <th>5</th>\n",
       "      <td>2018</td>\n",
       "      <td>257082856</td>\n",
       "      <td>2018</td>\n",
       "      <td>13.633333</td>\n",
       "      <td>22.791667</td>\n",
       "      <td>17.591667</td>\n",
       "      <td>151.083333</td>\n",
       "    </tr>\n",
       "    <tr>\n",
       "      <th>6</th>\n",
       "      <td>2019</td>\n",
       "      <td>182245159</td>\n",
       "      <td>2019</td>\n",
       "      <td>14.025000</td>\n",
       "      <td>23.425000</td>\n",
       "      <td>18.158333</td>\n",
       "      <td>114.333333</td>\n",
       "    </tr>\n",
       "    <tr>\n",
       "      <th>7</th>\n",
       "      <td>2020</td>\n",
       "      <td>156717100</td>\n",
       "      <td>2020</td>\n",
       "      <td>13.266667</td>\n",
       "      <td>23.691667</td>\n",
       "      <td>17.866667</td>\n",
       "      <td>120.158333</td>\n",
       "    </tr>\n",
       "    <tr>\n",
       "      <th>8</th>\n",
       "      <td>2021</td>\n",
       "      <td>217374993</td>\n",
       "      <td>2021</td>\n",
       "      <td>12.111111</td>\n",
       "      <td>22.044444</td>\n",
       "      <td>16.477778</td>\n",
       "      <td>101.488889</td>\n",
       "    </tr>\n",
       "  </tbody>\n",
       "</table>\n",
       "</div>"
      ],
      "text/plain": [
       "   safra  quantidade   Ano       Tmin       Tmax       Tmed  Precipitacao (mm)\n",
       "0   2013   242686752  2013  12.533333  22.341667  17.016667         164.000000\n",
       "1   2014   234637437  2014  14.166667  23.466667  18.183333         170.250000\n",
       "2   2015   247457542  2015  14.291667  22.950000  18.016667         164.333333\n",
       "3   2016   104389641  2016  13.116667  22.558333  17.200000         148.000000\n",
       "4   2017   299553057  2017  14.141667  23.466667  18.250000         155.250000\n",
       "5   2018   257082856  2018  13.633333  22.791667  17.591667         151.083333\n",
       "6   2019   182245159  2019  14.025000  23.425000  18.158333         114.333333\n",
       "7   2020   156717100  2020  13.266667  23.691667  17.866667         120.158333\n",
       "8   2021   217374993  2021  12.111111  22.044444  16.477778         101.488889"
      ]
     },
     "execution_count": 28,
     "metadata": {},
     "output_type": "execute_result"
    }
   ],
   "source": [
    "#Dados de Produção COmbinados com dados CLimaticos:\n",
    "df_clima_producao = df_prod_safrada \\\n",
    "    .groupby(\"safra\") \\\n",
    "    .agg({\"quantidade\": \"sum\"}).reset_index() \\\n",
    "    .merge(df_clima, left_on = \"safra\", right_on = \"Ano\", how = \"inner\")\n",
    "\n",
    "df_clima_producao"
   ]
  },
  {
   "cell_type": "code",
   "execution_count": 30,
   "id": "c6630315",
   "metadata": {},
   "outputs": [
    {
     "data": {
      "image/png": "[encoded data removed]",
      "text/plain": [
       "<Figure size 864x432 with 2 Axes>"
      ]
     },
     "metadata": {
      "needs_background": "light"
     },
     "output_type": "display_data"
    }
   ],
   "source": [
    "#Plotando temperatura Media e Precipitação Média:\n",
    "plt.figure(figsize = (12, 6))\n",
    "\n",
    "#Axis 1 - Produção:\n",
    "plot_clima1 = sns.lineplot(x = \"safra\", y = \"Tmed\",\n",
    "                  legend=True, data = df_clima_producao, marker = \"o\", label = \"Temperatura Média Anual\")\n",
    "plot_clima1.yaxis.set_major_formatter('{x:,}')\n",
    "plt.ylabel(ylabel = \"Temperatura Média Anual\")\n",
    "plt.xlabel(xlabel = \"Safra\")\n",
    "plt.title(\"Clima na região Sul do Brasil - Bento Gonçalves\")\n",
    "plt.legend(bbox_to_anchor=(1.0, 1.02), loc='upper right', borderaxespad=1)\n",
    "ax2 = plot_clima1.twinx()\n",
    "\n",
    "#Axis 2 - Clima:\n",
    "plot_clima2 = sns.lineplot(x = \"safra\", y = \"Precipitacao (mm)\", ax = ax2, \n",
    "             legend=True, data = df_clima_producao, color = \"r\", marker = \"o\", label = \"Precipitação Média (mm)\")\n",
    "plt.legend(bbox_to_anchor=(1.04, 1.01), loc='best', borderaxespad=3)\n",
    "plt.show()"
   ]
  },
  {
   "cell_type": "code",
   "execution_count": 31,
   "id": "c8260b18",
   "metadata": {},
   "outputs": [
    {
     "data": {
      "text/plain": [
       "<matplotlib.legend.Legend at 0x253812cb820>"
      ]
     },
     "execution_count": 31,
     "metadata": {},
     "output_type": "execute_result"
    },
    {
     "data": {
      "image/png": "[encoded data removed]",
      "text/plain": [
       "<Figure size 864x432 with 1 Axes>"
      ]
     },
     "metadata": {
      "needs_background": "light"
     },
     "output_type": "display_data"
    }
   ],
   "source": [
    "plt.figure(figsize = (12, 6))\n",
    "\n",
    "#Axis 1 - Produção:\n",
    "plotc_prod = sns.lineplot(x = \"safra\", y = \"quantidade\",\n",
    "                  legend=True, data = df_clima_producao, marker = \"o\", label = \"Quantidade (L)\",\n",
    "                         color = \"grey\")\n",
    "plotc_prod.yaxis.set_major_formatter('{x:,}')\n",
    "plt.ylabel(ylabel = \"Quantidade (L)\")\n",
    "plt.xlabel(xlabel = \"Safra\")\n",
    "plt.title(\"Produção de Vinhos na Região Sul desde 2013\")\n",
    "plt.legend(bbox_to_anchor=(1.0, 1.02), loc='upper right', borderaxespad=1)"
   ]
  },
  {
   "cell_type": "markdown",
   "id": "d1be8f84",
   "metadata": {},
   "source": [
    "Diversas visualizações foram testadas com a produção e os dados meteorologicos disponíveis. A variável que parece ter maior efeito na produção é a precipitação, que de fato é um fato determinante nas produções de vinhos, e pelo gráfico acima é possível verificar que a produção começou a declinar a partir de 2017 com a queda na precipitação média anual."
   ]
  },
  {
   "cell_type": "markdown",
   "id": "459956ad",
   "metadata": {},
   "source": [
    "Apesar da produção estar aparentemente em declinio, as exportações para América do Sul continuaram sua tendência positiva de exportações, carregando os volumes totais de exportações, visto que os demais continentes e seus paises continuaram com exportações lineares. "
   ]
  },
  {
   "cell_type": "markdown",
   "id": "f3b596c0",
   "metadata": {},
   "source": [
    "Agora para podermos verificar como manter as exportações crescendo, podemos realizar algumas visões especificas para América do Sul, verificando quais tipos de vinhos e a qualidade que da exportação, para prever possibilidades de aumentar a produção desses vinhos e consequentemente as exportações."
   ]
  },
  {
   "cell_type": "code",
   "execution_count": 32,
   "id": "289ba9b8",
   "metadata": {},
   "outputs": [
    {
     "data": {
      "text/html": [
       "<div>\n",
       "<style scoped>\n",
       "    .dataframe tbody tr th:only-of-type {\n",
       "        vertical-align: middle;\n",
       "    }\n",
       "\n",
       "    .dataframe tbody tr th {\n",
       "        vertical-align: top;\n",
       "    }\n",
       "\n",
       "    .dataframe thead th {\n",
       "        text-align: right;\n",
       "    }\n",
       "</style>\n",
       "<table border=\"1\" class=\"dataframe\">\n",
       "  <thead>\n",
       "    <tr style=\"text-align: right;\">\n",
       "      <th></th>\n",
       "      <th>pais</th>\n",
       "      <th>safra</th>\n",
       "      <th>quantidade</th>\n",
       "      <th>valor</th>\n",
       "      <th>continente</th>\n",
       "      <th>pais_en</th>\n",
       "    </tr>\n",
       "  </thead>\n",
       "  <tbody>\n",
       "    <tr>\n",
       "      <th>98</th>\n",
       "      <td>Argentina</td>\n",
       "      <td>2008</td>\n",
       "      <td>0</td>\n",
       "      <td>0</td>\n",
       "      <td>América do Sul</td>\n",
       "      <td>Argentina</td>\n",
       "    </tr>\n",
       "    <tr>\n",
       "      <th>99</th>\n",
       "      <td>Argentina</td>\n",
       "      <td>2009</td>\n",
       "      <td>162</td>\n",
       "      <td>4523</td>\n",
       "      <td>América do Sul</td>\n",
       "      <td>Argentina</td>\n",
       "    </tr>\n",
       "    <tr>\n",
       "      <th>100</th>\n",
       "      <td>Argentina</td>\n",
       "      <td>2010</td>\n",
       "      <td>0</td>\n",
       "      <td>0</td>\n",
       "      <td>América do Sul</td>\n",
       "      <td>Argentina</td>\n",
       "    </tr>\n",
       "    <tr>\n",
       "      <th>101</th>\n",
       "      <td>Argentina</td>\n",
       "      <td>2011</td>\n",
       "      <td>13253</td>\n",
       "      <td>55460</td>\n",
       "      <td>América do Sul</td>\n",
       "      <td>Argentina</td>\n",
       "    </tr>\n",
       "    <tr>\n",
       "      <th>102</th>\n",
       "      <td>Argentina</td>\n",
       "      <td>2012</td>\n",
       "      <td>0</td>\n",
       "      <td>0</td>\n",
       "      <td>América do Sul</td>\n",
       "      <td>Argentina</td>\n",
       "    </tr>\n",
       "  </tbody>\n",
       "</table>\n",
       "</div>"
      ],
      "text/plain": [
       "          pais  safra  quantidade  valor      continente    pais_en\n",
       "98   Argentina   2008           0      0  América do Sul  Argentina\n",
       "99   Argentina   2009         162   4523  América do Sul  Argentina\n",
       "100  Argentina   2010           0      0  América do Sul  Argentina\n",
       "101  Argentina   2011       13253  55460  América do Sul  Argentina\n",
       "102  Argentina   2012           0      0  América do Sul  Argentina"
      ]
     },
     "execution_count": 32,
     "metadata": {},
     "output_type": "execute_result"
    }
   ],
   "source": [
    "#Análise especifica para América do Sul:\n",
    "df_america_do_sul = df_vinhos_ajustada[[\"pais\", \"safra\", \"quantidade\", \"valor\"]] \\\n",
    "    .merge(df_continentes, on = \"pais\", how = \"left\") \\\n",
    "    .query(\"continente == 'América do Sul' and pais != 'Brasil'\")\n",
    "df_america_do_sul.head()"
   ]
  },
  {
   "cell_type": "code",
   "execution_count": 33,
   "id": "c0cd0ddd",
   "metadata": {},
   "outputs": [
    {
     "data": {
      "text/plain": [
       "Text(0.5, 0, 'País')"
      ]
     },
     "execution_count": 33,
     "metadata": {},
     "output_type": "execute_result"
    },
    {
     "data": {
      "image/png": "[encoded data removed]",
      "text/plain": [
       "<Figure size 864x432 with 1 Axes>"
      ]
     },
     "metadata": {
      "needs_background": "light"
     },
     "output_type": "display_data"
    }
   ],
   "source": [
    "#Exportação por País da América do Sul:\n",
    "df_america_total = df_america_do_sul \\\n",
    "    .groupby(\"pais\") \\\n",
    "    .agg({\"quantidade\": \"sum\"}) \\\n",
    "    .reset_index() \\\n",
    "    .sort_values(\"quantidade\", ascending = False)\n",
    "\n",
    "plt.figure(figsize = (12, 6))\n",
    "plot_as = sns.barplot(x = 'pais', y = 'quantidade', data = df_america_total)\n",
    "plot_as.yaxis.set_major_formatter('{x:,}')\n",
    "plt.ylabel(ylabel = \"Quantidade (Kg)\")\n",
    "plt.xlabel(xlabel = \"País\")"
   ]
  },
  {
   "cell_type": "markdown",
   "id": "bd6751be",
   "metadata": {},
   "source": [
    "A exportação para o Paraguai se dá de maneira tão intensa que é até dificil visualizar o ritmo dos demais paises do continente. Vamos verificar as séries desses paises individualmente."
   ]
  },
  {
   "cell_type": "code",
   "execution_count": 34,
   "id": "0b934a34",
   "metadata": {},
   "outputs": [],
   "source": [
    "df_america_safra = df_america_do_sul \\\n",
    "    .groupby([\"pais\", \"safra\"]) \\\n",
    "    .agg({\"quantidade\": \"sum\"}) \\\n",
    "    .reset_index()"
   ]
  },
  {
   "cell_type": "code",
   "execution_count": 35,
   "id": "4bd773d1",
   "metadata": {},
   "outputs": [
    {
     "data": {
      "text/plain": [
       "Text(0.5, 0, 'Safra')"
      ]
     },
     "execution_count": 35,
     "metadata": {},
     "output_type": "execute_result"
    },
    {
     "data": {
      "image/png": "[encoded data removed]",
      "text/plain": [
       "<Figure size 864x432 with 1 Axes>"
      ]
     },
     "metadata": {
      "needs_background": "light"
     },
     "output_type": "display_data"
    }
   ],
   "source": [
    "plt.figure(figsize = (12, 6))\n",
    "sns.set_palette(sns.color_palette(\"Greens\", 8))\n",
    "plot_as_pais = sns.lineplot(x = \"safra\", y = \"quantidade\",\n",
    "                  legend=True, data = df_america_safra, marker = \"o\", hue = 'pais')\n",
    "plot_as_pais.yaxis.set_major_formatter('{x:,}')\n",
    "plt.ylabel(ylabel = \"Quantidade (Kg)\")\n",
    "plt.xlabel(xlabel = \"Safra\")"
   ]
  },
  {
   "cell_type": "markdown",
   "id": "5a234302",
   "metadata": {},
   "source": [
    "Praticamente todas as exportações que estamos realizando nos últimos 15 anos, como um todo, foram feitas para o Paraguai, o montante exportado para ele é bem agressivo, e parece ser definitivamente a maior porção. Para verificar isso também vamos calcular a participação do paraguai em relação ao total exportado por ano e plotar para verificarmos a tendência."
   ]
  },
  {
   "cell_type": "code",
   "execution_count": 36,
   "id": "e27d603f",
   "metadata": {},
   "outputs": [
    {
     "data": {
      "text/html": [
       "<div>\n",
       "<style scoped>\n",
       "    .dataframe tbody tr th:only-of-type {\n",
       "        vertical-align: middle;\n",
       "    }\n",
       "\n",
       "    .dataframe tbody tr th {\n",
       "        vertical-align: top;\n",
       "    }\n",
       "\n",
       "    .dataframe thead th {\n",
       "        text-align: right;\n",
       "    }\n",
       "</style>\n",
       "<table border=\"1\" class=\"dataframe\">\n",
       "  <thead>\n",
       "    <tr style=\"text-align: right;\">\n",
       "      <th></th>\n",
       "      <th>pais</th>\n",
       "      <th>safra</th>\n",
       "      <th>quantidade</th>\n",
       "      <th>valor</th>\n",
       "    </tr>\n",
       "  </thead>\n",
       "  <tbody>\n",
       "    <tr>\n",
       "      <th>0</th>\n",
       "      <td>Afeganistão</td>\n",
       "      <td>2008</td>\n",
       "      <td>0</td>\n",
       "      <td>0</td>\n",
       "    </tr>\n",
       "    <tr>\n",
       "      <th>1</th>\n",
       "      <td>Afeganistão</td>\n",
       "      <td>2009</td>\n",
       "      <td>0</td>\n",
       "      <td>0</td>\n",
       "    </tr>\n",
       "    <tr>\n",
       "      <th>2</th>\n",
       "      <td>Afeganistão</td>\n",
       "      <td>2010</td>\n",
       "      <td>0</td>\n",
       "      <td>0</td>\n",
       "    </tr>\n",
       "    <tr>\n",
       "      <th>3</th>\n",
       "      <td>Afeganistão</td>\n",
       "      <td>2011</td>\n",
       "      <td>0</td>\n",
       "      <td>0</td>\n",
       "    </tr>\n",
       "    <tr>\n",
       "      <th>4</th>\n",
       "      <td>Afeganistão</td>\n",
       "      <td>2012</td>\n",
       "      <td>0</td>\n",
       "      <td>0</td>\n",
       "    </tr>\n",
       "  </tbody>\n",
       "</table>\n",
       "</div>"
      ],
      "text/plain": [
       "          pais  safra  quantidade  valor\n",
       "0  Afeganistão   2008           0      0\n",
       "1  Afeganistão   2009           0      0\n",
       "2  Afeganistão   2010           0      0\n",
       "3  Afeganistão   2011           0      0\n",
       "4  Afeganistão   2012           0      0"
      ]
     },
     "execution_count": 36,
     "metadata": {},
     "output_type": "execute_result"
    }
   ],
   "source": [
    "#Participação por Safra e Pais:\n",
    "df_agregada_pais_safra = df_vinhos_ajustada \\\n",
    "    .groupby([\"pais\", \"safra\"]) \\\n",
    "    .sum([\"quantidade\", \"valor\"]).reset_index()\n",
    "df_agregada_pais_safra.head()"
   ]
  },
  {
   "cell_type": "code",
   "execution_count": 37,
   "id": "7a380235",
   "metadata": {},
   "outputs": [],
   "source": [
    "df_acumulada_por_safra_pais = pd.DataFrame()\n",
    "#Loopando por Safra:\n",
    "for s in np.unique(df_agregada_pais_safra[\"safra\"]):\n",
    "    #Df Safrada:\n",
    "    temp = df_agregada_pais_safra.copy().query(\"safra == @s\")\n",
    "    \n",
    "    #Totais:\n",
    "    total_temp = np.sum(temp[\"quantidade\"])\n",
    "    \n",
    "    #Participação por Pais e Safra:\n",
    "    temp[\"% por Qtde\"] = round(temp[\"quantidade\"] / total_temp, 3)\n",
    "    temp = temp.sort_values(\"% por Qtde\", ascending = False)\n",
    "    temp[\"% Acum. Qtde\"] = np.cumsum(temp[\"% por Qtde\"])\n",
    "    \n",
    "    df_acumulada_por_safra_pais = pd.concat([\n",
    "        df_acumulada_por_safra_pais,\n",
    "        temp\n",
    "    ])"
   ]
  },
  {
   "cell_type": "code",
   "execution_count": 64,
   "id": "7f3e6897",
   "metadata": {},
   "outputs": [
    {
     "name": "stderr",
     "output_type": "stream",
     "text": [
      "C:\\Users\\lucaa\\AppData\\Local\\Temp\\ipykernel_8864\\1754153662.py:10: UserWarning:\n",
      "\n",
      "FixedFormatter should only be used together with FixedLocator\n",
      "\n"
     ]
    },
    {
     "data": {
      "text/plain": [
       "[Text(0, 0.0, '0%'),\n",
       " Text(0, 0.2, '20%'),\n",
       " Text(0, 0.4, '40%'),\n",
       " Text(0, 0.6000000000000001, '60%'),\n",
       " Text(0, 0.8, '80%'),\n",
       " Text(0, 1.0, '100%')]"
      ]
     },
     "execution_count": 64,
     "metadata": {},
     "output_type": "execute_result"
    },
    {
     "data": {
      "image/png": "[encoded data removed]",
      "text/plain": [
       "<Figure size 864x432 with 1 Axes>"
      ]
     },
     "metadata": {
      "needs_background": "light"
     },
     "output_type": "display_data"
    }
   ],
   "source": [
    "plt.figure(figsize = (12, 6))\n",
    "plot_as_pais = sns.barplot(x = \"safra\", y = \"% por Qtde\",\n",
    "                           data = df_acumulada_por_safra_pais.query(\"pais == 'Paraguai'\"), color='darkblue')\n",
    "plt.ylabel(ylabel = \"% da Participação do Total de Exportações\")\n",
    "plt.xlabel(xlabel = \"Safra\")\n",
    "plt.title(\"Participação no Total Exportado Anualmente do Paraguai\")\n",
    "plt.ylim((0, 1))\n",
    "# manipulate\n",
    "vals = plot_as_pais.get_yticks()\n",
    "plot_as_pais.set_yticklabels(['{:,.0%}'.format(x) for x in vals])"
   ]
  },
  {
   "cell_type": "markdown",
   "id": "47cfd29a",
   "metadata": {},
   "source": [
    "Claramente o Paraguai tornou-se o nosso principal importador de vinhos, de 2008 a 2014, o % de participação do país no total exportado em quantidade era abaixo de 20%, e ganhou uma tendência positiva agressiva de crescimento, chegando a mais de 70% do total exportado a em 2021, representando um crescimento superior a 200%, influenciando diretamente na capacidade do país."
   ]
  },
  {
   "cell_type": "code",
   "execution_count": 39,
   "id": "710129a4",
   "metadata": {},
   "outputs": [],
   "source": [
    "#Crescimento Anual do Paraguai:\n",
    "df_paraguai = df_acumulada_por_safra_pais.query(\"pais == 'Paraguai'\").reset_index().drop(columns = {\"index\"})\n",
    "variacoes = [None]\n",
    "for i in range(1, len(df_paraguai)):\n",
    "    variacao = (df_paraguai[\"% por Qtde\"][i] / df_paraguai[\"% por Qtde\"][i-1]) - 1\n",
    "    variacoes.append(variacao)\n",
    "df_paraguai[\"Variação\"] = variacoes\n",
    "\n",
    "#Pallete Colors:\n",
    "cols_paraguai = ['red' if x < 0 else 'green' for x in variacoes[1:]]\n",
    "cols_paraguai.insert(0, \"green\")"
   ]
  },
  {
   "cell_type": "code",
   "execution_count": 40,
   "id": "80dd46b5",
   "metadata": {},
   "outputs": [
    {
     "name": "stderr",
     "output_type": "stream",
     "text": [
      "C:\\Users\\lucaa\\AppData\\Local\\Temp\\ipykernel_8864\\2220917068.py:8: UserWarning: FixedFormatter should only be used together with FixedLocator\n",
      "  ax.set_yticklabels(['{:,.0%}'.format(x) for x in vals])\n"
     ]
    },
    {
     "data": {
      "text/plain": [
       "[Text(0, -5.0, '-500%'),\n",
       " Text(0, 0.0, '0%'),\n",
       " Text(0, 5.0, '500%'),\n",
       " Text(0, 10.0, '1,000%'),\n",
       " Text(0, 15.0, '1,500%'),\n",
       " Text(0, 20.0, '2,000%'),\n",
       " Text(0, 25.0, '2,500%')]"
      ]
     },
     "execution_count": 40,
     "metadata": {},
     "output_type": "execute_result"
    },
    {
     "data": {
      "image/png": "[encoded data removed]",
      "text/plain": [
       "<Figure size 864x432 with 1 Axes>"
      ]
     },
     "metadata": {
      "needs_background": "light"
     },
     "output_type": "display_data"
    }
   ],
   "source": [
    "#Plotando o crescimento anual:\n",
    "plt.figure(figsize = (12, 6))\n",
    "ax = sns.barplot(x = \"safra\", y = \"Variação\", data = df_paraguai, palette = cols_paraguai)\n",
    "plt.ylabel(ylabel = \"% Crescimento Anual\")\n",
    "plt.xlabel(xlabel = \"Safra\")\n",
    "# manipulate\n",
    "vals = ax.get_yticks()\n",
    "ax.set_yticklabels(['{:,.0%}'.format(x) for x in vals])"
   ]
  },
  {
   "cell_type": "markdown",
   "id": "a1bd862a",
   "metadata": {},
   "source": [
    "O crescimento a partir de 2013 é bem significativo, só tendo crescimentos positivos de ano para ano."
   ]
  },
  {
   "cell_type": "markdown",
   "id": "672cc8b8",
   "metadata": {},
   "source": [
    "Quando analisamos os dados economicos do Paraguai, o crescimento nas exportações realizadas para ele são embasadas pelo desenvolvimento de sua economia, desdde 2008 o PIB do país cresceu em um rumo acelerado, assim como suas improtações e exportações. Até 2008, as exportações ficaram inferiores a 10 Bilhões de dólares, e a partir de 2008 também começaram a crescer, chegando a 13,4 Bilhões de dólares em 2021."
   ]
  },
  {
   "cell_type": "markdown",
   "id": "f5457b8c",
   "metadata": {},
   "source": [
    "Plotando a participação das exportações do paraguai em comparação aos demais paises"
   ]
  },
  {
   "cell_type": "code",
   "execution_count": 41,
   "id": "191c080f",
   "metadata": {},
   "outputs": [],
   "source": [
    "df_acumulada_por_safra_pais[\"cat_pais\"] = np.where(df_acumulada_por_safra_pais[\"pais\"] == \"Paraguai\", \"Paraguai\", \"Outros Paises\")"
   ]
  },
  {
   "cell_type": "code",
   "execution_count": 42,
   "id": "6ae604c6",
   "metadata": {},
   "outputs": [
    {
     "data": {
      "text/html": [
       "<div>\n",
       "<style scoped>\n",
       "    .dataframe tbody tr th:only-of-type {\n",
       "        vertical-align: middle;\n",
       "    }\n",
       "\n",
       "    .dataframe tbody tr th {\n",
       "        vertical-align: top;\n",
       "    }\n",
       "\n",
       "    .dataframe thead th {\n",
       "        text-align: right;\n",
       "    }\n",
       "</style>\n",
       "<table border=\"1\" class=\"dataframe\">\n",
       "  <thead>\n",
       "    <tr style=\"text-align: right;\">\n",
       "      <th></th>\n",
       "      <th>cat_pais</th>\n",
       "      <th>safra</th>\n",
       "      <th>% por Qtde</th>\n",
       "    </tr>\n",
       "  </thead>\n",
       "  <tbody>\n",
       "    <tr>\n",
       "      <th>0</th>\n",
       "      <td>Outros Paises</td>\n",
       "      <td>2008</td>\n",
       "      <td>0.786</td>\n",
       "    </tr>\n",
       "    <tr>\n",
       "      <th>1</th>\n",
       "      <td>Outros Paises</td>\n",
       "      <td>2009</td>\n",
       "      <td>0.981</td>\n",
       "    </tr>\n",
       "    <tr>\n",
       "      <th>2</th>\n",
       "      <td>Outros Paises</td>\n",
       "      <td>2010</td>\n",
       "      <td>0.601</td>\n",
       "    </tr>\n",
       "    <tr>\n",
       "      <th>3</th>\n",
       "      <td>Outros Paises</td>\n",
       "      <td>2011</td>\n",
       "      <td>0.803</td>\n",
       "    </tr>\n",
       "    <tr>\n",
       "      <th>4</th>\n",
       "      <td>Outros Paises</td>\n",
       "      <td>2012</td>\n",
       "      <td>0.934</td>\n",
       "    </tr>\n",
       "  </tbody>\n",
       "</table>\n",
       "</div>"
      ],
      "text/plain": [
       "        cat_pais  safra  % por Qtde\n",
       "0  Outros Paises   2008       0.786\n",
       "1  Outros Paises   2009       0.981\n",
       "2  Outros Paises   2010       0.601\n",
       "3  Outros Paises   2011       0.803\n",
       "4  Outros Paises   2012       0.934"
      ]
     },
     "execution_count": 42,
     "metadata": {},
     "output_type": "execute_result"
    }
   ],
   "source": [
    "df_acum_cat = df_acumulada_por_safra_pais \\\n",
    "    .groupby([\"cat_pais\", \"safra\"]) \\\n",
    "    .agg({\"% por Qtde\": \"sum\"}) \\\n",
    "    .reset_index()\n",
    "df_acum_cat.head()"
   ]
  },
  {
   "cell_type": "code",
   "execution_count": 44,
   "id": "e4767605",
   "metadata": {},
   "outputs": [
    {
     "data": {
      "text/html": [
       "<div>\n",
       "<style scoped>\n",
       "    .dataframe tbody tr th:only-of-type {\n",
       "        vertical-align: middle;\n",
       "    }\n",
       "\n",
       "    .dataframe tbody tr th {\n",
       "        vertical-align: top;\n",
       "    }\n",
       "\n",
       "    .dataframe thead th {\n",
       "        text-align: right;\n",
       "    }\n",
       "</style>\n",
       "<table border=\"1\" class=\"dataframe\">\n",
       "  <thead>\n",
       "    <tr style=\"text-align: right;\">\n",
       "      <th></th>\n",
       "      <th>pais</th>\n",
       "      <th>quantidade</th>\n",
       "      <th>continente</th>\n",
       "      <th>pais_en</th>\n",
       "    </tr>\n",
       "  </thead>\n",
       "  <tbody>\n",
       "    <tr>\n",
       "      <th>0</th>\n",
       "      <td>Afeganistão</td>\n",
       "      <td>11</td>\n",
       "      <td>Ásia</td>\n",
       "      <td>Afghanistan</td>\n",
       "    </tr>\n",
       "    <tr>\n",
       "      <th>1</th>\n",
       "      <td>Alemanha, República Democrática</td>\n",
       "      <td>901421</td>\n",
       "      <td>Europa</td>\n",
       "      <td>Germany</td>\n",
       "    </tr>\n",
       "    <tr>\n",
       "      <th>2</th>\n",
       "      <td>Angola</td>\n",
       "      <td>164800</td>\n",
       "      <td>África</td>\n",
       "      <td>Angola</td>\n",
       "    </tr>\n",
       "    <tr>\n",
       "      <th>3</th>\n",
       "      <td>Anguilla</td>\n",
       "      <td>0</td>\n",
       "      <td>Europa</td>\n",
       "      <td>Anguilla</td>\n",
       "    </tr>\n",
       "    <tr>\n",
       "      <th>4</th>\n",
       "      <td>Antilhas Holandesas</td>\n",
       "      <td>97002</td>\n",
       "      <td>América do Norte</td>\n",
       "      <td>Netherlands Antilles</td>\n",
       "    </tr>\n",
       "  </tbody>\n",
       "</table>\n",
       "</div>"
      ],
      "text/plain": [
       "                              pais  quantidade        continente  \\\n",
       "0                      Afeganistão          11              Ásia   \n",
       "1  Alemanha, República Democrática      901421            Europa   \n",
       "2                           Angola      164800            África   \n",
       "3                         Anguilla           0            Europa   \n",
       "4              Antilhas Holandesas       97002  América do Norte   \n",
       "\n",
       "                pais_en  \n",
       "0           Afghanistan  \n",
       "1               Germany  \n",
       "2                Angola  \n",
       "3              Anguilla  \n",
       "4  Netherlands Antilles  "
      ]
     },
     "execution_count": 44,
     "metadata": {},
     "output_type": "execute_result"
    }
   ],
   "source": [
    "#Paises Traduzidos:\n",
    "df_paises = pd.read_excel(\"C:/Users/lucaa/Desktop/Pós Tech Data Analytics/Fase 1/Tech Challenge/Data/content/continentes.xlsx\") \\\n",
    "    .transform(lambda x: x.strip() if type(x) == str else x)\n",
    "\n",
    "#Adicionando Coordenadas aos Valores:\n",
    "df_map = df_vinhos_ajustada \\\n",
    "    .groupby(\"pais\") \\\n",
    "    .agg({\"quantidade\":\"sum\"}) \\\n",
    "    .reset_index() \\\n",
    "    .merge(df_paises, on = \"pais\", how = \"inner\")\n",
    "df_map.head()"
   ]
  },
  {
   "cell_type": "code",
   "execution_count": 45,
   "id": "8da1f843",
   "metadata": {},
   "outputs": [],
   "source": [
    "from urllib.request import urlopen\n",
    "import json\n",
    "import plotly.express as px"
   ]
  },
  {
   "cell_type": "code",
   "execution_count": 46,
   "id": "c5bf999d",
   "metadata": {},
   "outputs": [],
   "source": [
    "#Paises Infos Loc:\n",
    "with urlopen('https://raw.githubusercontent.com/plotly/datasets/master/geojson-counties-fips.json') as response:\n",
    "    counties = json.load(response)"
   ]
  },
  {
   "cell_type": "code",
   "execution_count": 47,
   "id": "6f5b826a",
   "metadata": {},
   "outputs": [],
   "source": [
    "#Infos dos Paises de Exp Qtde com Code:\n",
    "df_plotly = pd.read_csv('https://raw.githubusercontent.com/plotly/datasets/master/2014_world_gdp_with_codes.csv') \\\n",
    "    .transform(lambda x: x.strip() if type(x) == str else x) \\\n",
    "    .merge(df_map, left_on = \"COUNTRY\", right_on = \"pais_en\", how = \"inner\") \\\n",
    "    [[\"pais_en\", \"CODE\", \"pais\", \"quantidade\"]]"
   ]
  },
  {
   "cell_type": "code",
   "execution_count": 48,
   "id": "8bb8d28a",
   "metadata": {},
   "outputs": [
    {
     "data": {
      "text/html": [
       "<div>\n",
       "<style scoped>\n",
       "    .dataframe tbody tr th:only-of-type {\n",
       "        vertical-align: middle;\n",
       "    }\n",
       "\n",
       "    .dataframe tbody tr th {\n",
       "        vertical-align: top;\n",
       "    }\n",
       "\n",
       "    .dataframe thead th {\n",
       "        text-align: right;\n",
       "    }\n",
       "</style>\n",
       "<table border=\"1\" class=\"dataframe\">\n",
       "  <thead>\n",
       "    <tr style=\"text-align: right;\">\n",
       "      <th></th>\n",
       "      <th>pais_en</th>\n",
       "      <th>CODE</th>\n",
       "      <th>pais</th>\n",
       "      <th>quantidade</th>\n",
       "    </tr>\n",
       "  </thead>\n",
       "  <tbody>\n",
       "    <tr>\n",
       "      <th>80</th>\n",
       "      <td>Paraguay</td>\n",
       "      <td>PRY</td>\n",
       "      <td>Paraguai</td>\n",
       "      <td>24138100</td>\n",
       "    </tr>\n",
       "  </tbody>\n",
       "</table>\n",
       "</div>"
      ],
      "text/plain": [
       "     pais_en CODE      pais  quantidade\n",
       "80  Paraguay  PRY  Paraguai    24138100"
      ]
     },
     "execution_count": 48,
     "metadata": {},
     "output_type": "execute_result"
    }
   ],
   "source": [
    "df_plotly.query(\"pais == 'Paraguai'\")"
   ]
  },
  {
   "cell_type": "code",
   "execution_count": 69,
   "id": "ec3fa367",
   "metadata": {},
   "outputs": [],
   "source": [
    "import plotly.graph_objects as go"
   ]
  },
  {
   "cell_type": "code",
   "execution_count": 70,
   "id": "83ce499e",
   "metadata": {},
   "outputs": [
    {
     "data": {
      "application/vnd.plotly.v1+json": {
       "config": {
        "plotlyServerURL": "https://plot.ly"
       },
       "data": [
        {
         "autocolorscale": false,
         "colorbar": {
          "title": {
           "text": "Quantidade (L)"
          }
         },
         "colorscale": [
          [
           0,
           "rgb(255,245,240)"
          ],
          [
           0.125,
           "rgb(254,224,210)"
          ],
          [
           0.25,
           "rgb(252,187,161)"
          ],
          [
           0.375,
           "rgb(252,146,114)"
          ],
          [
           0.5,
           "rgb(251,106,74)"
          ],
          [
           0.625,
           "rgb(239,59,44)"
          ],
          [
           0.75,
           "rgb(203,24,29)"
          ],
          [
           0.875,
           "rgb(165,15,21)"
          ],
          [
           1,
           "rgb(103,0,13)"
          ]
         ],
         "locations": [
          "AFG",
          "AGO",
          "AIA",
          "ATG",
          "ARG",
          "ABW",
          "AUS",
          "AUT",
          "BHR",
          "BGD",
          "BRB",
          "BEL",
          "BLZ",
          "BEN",
          "BOL",
          "BIH",
          "BRA",
          "BGR",
          "CMR",
          "CAN",
          "CYM",
          "CHL",
          "CHN",
          "COL",
          "COM",
          "CRI",
          "HRV",
          "CUB",
          "CUW",
          "CYP",
          "CZE",
          "DNK",
          "DMA",
          "DOM",
          "ECU",
          "SLV",
          "GNQ",
          "EST",
          "FIN",
          "FRA",
          "DEU",
          "GHA",
          "GIB",
          "GRC",
          "GTM",
          "GNB",
          "GUY",
          "HTI",
          "HND",
          "HKG",
          "HUN",
          "IND",
          "IDN",
          "IRN",
          "IRQ",
          "IRL",
          "IMN",
          "ITA",
          "JAM",
          "JPN",
          "JOR",
          "KEN",
          "LVA",
          "LBN",
          "LBR",
          "LUX",
          "MYS",
          "MLT",
          "MHL",
          "MRT",
          "MEX",
          "MNE",
          "NAM",
          "NLD",
          "NCL",
          "NZL",
          "NIC",
          "NGA",
          "NOR",
          "PAN",
          "PRY",
          "PER",
          "PHL",
          "POL",
          "PRT",
          "PRI",
          "QAT",
          "RUS",
          "VCT",
          "STP",
          "SEN",
          "SLE",
          "SGP",
          "SGP",
          "ZAF",
          "ESP",
          "SUR",
          "SWE",
          "CHE",
          "TWN",
          "TZA",
          "THA",
          "TGO",
          "TTO",
          "TUN",
          "TUR",
          "TUV",
          "ARE",
          "GBR",
          "USA",
          "URY",
          "VUT",
          "VEN",
          "VNM",
          "VGB"
         ],
         "marker": {
          "line": {
           "color": "black",
           "width": 0.5
          }
         },
         "reversescale": false,
         "text": [
          "Afghanistan",
          "Angola",
          "Anguilla",
          "Antigua and Barbuda",
          "Argentina",
          "Aruba",
          "Australia",
          "Austria",
          "Bahrain",
          "Bangladesh",
          "Barbados",
          "Belgium",
          "Belize",
          "Benin",
          "Bolivia",
          "Bosnia and Herzegovina",
          "Brazil",
          "Bulgaria",
          "Cameroon",
          "Canada",
          "Cayman Islands",
          "Chile",
          "China",
          "Colombia",
          "Comoros",
          "Costa Rica",
          "Croatia",
          "Cuba",
          "Curacao",
          "Cyprus",
          "Czech Republic",
          "Denmark",
          "Dominica",
          "Dominican Republic",
          "Ecuador",
          "El Salvador",
          "Equatorial Guinea",
          "Estonia",
          "Finland",
          "France",
          "Germany",
          "Ghana",
          "Gibraltar",
          "Greece",
          "Guatemala",
          "Guinea-Bissau",
          "Guyana",
          "Haiti",
          "Honduras",
          "Hong Kong",
          "Hungary",
          "India",
          "Indonesia",
          "Iran",
          "Iraq",
          "Ireland",
          "Isle of Man",
          "Italy",
          "Jamaica",
          "Japan",
          "Jordan",
          "Kenya",
          "Latvia",
          "Lebanon",
          "Liberia",
          "Luxembourg",
          "Malaysia",
          "Malta",
          "Marshall Islands",
          "Mauritania",
          "Mexico",
          "Montenegro",
          "Namibia",
          "Netherlands",
          "New Caledonia",
          "New Zealand",
          "Nicaragua",
          "Nigeria",
          "Norway",
          "Panama",
          "Paraguay",
          "Peru",
          "Philippines",
          "Poland",
          "Portugal",
          "Puerto Rico",
          "Qatar",
          "Russia",
          "Saint Vincent and the Grenadines",
          "Sao Tome and Principe",
          "Senegal",
          "Sierra Leone",
          "Singapore",
          "Singapore",
          "South Africa",
          "Spain",
          "Suriname",
          "Sweden",
          "Switzerland",
          "Taiwan",
          "Tanzania",
          "Thailand",
          "Togo",
          "Trinidad and Tobago",
          "Tunisia",
          "Turkey",
          "Tuvalu",
          "United Arab Emirates",
          "United Kingdom",
          "United States",
          "Uruguay",
          "Vanuatu",
          "Venezuela",
          "Vietnam",
          "Virgin Islands"
         ],
         "type": "choropleth",
         "z": [
          11,
          164800,
          0,
          1685,
          50532,
          1350,
          273230,
          675,
          792,
          5,
          395,
          401839,
          9,
          15399,
          171891,
          45,
          31,
          117,
          1749,
          194308,
          265,
          21111,
          2404063,
          35669,
          9,
          55,
          21,
          271028,
          150446,
          5284,
          65224,
          78102,
          460,
          0,
          3782,
          55,
          20684,
          30071,
          86763,
          311859,
          901421,
          66229,
          792,
          8560,
          18964,
          48,
          4569,
          1238100,
          176,
          139761,
          627,
          71,
          5,
          137,
          0,
          16970,
          136,
          24468,
          0,
          1144368,
          12,
          6871,
          387,
          0,
          17808,
          66505,
          63,
          11095,
          23113,
          9,
          6320,
          32,
          340,
          1229120,
          7227,
          13967,
          24,
          129407,
          31644,
          50666,
          24138100,
          24668,
          13847,
          154475,
          417668,
          0,
          13339,
          38963753,
          8,
          2184,
          0,
          15783,
          27567,
          4504,
          30,
          1993000,
          25876,
          98530,
          151310,
          76081,
          0,
          2004,
          7050,
          891,
          0,
          818,
          2,
          12531,
          1220716,
          3342982,
          155478,
          18,
          32295,
          9669,
          0
         ]
        }
       ],
       "layout": {
        "template": {
         "data": {
          "bar": [
           {
            "error_x": {
             "color": "#2a3f5f"
            },
            "error_y": {
             "color": "#2a3f5f"
            },
            "marker": {
             "line": {
              "color": "#E5ECF6",
              "width": 0.5
             },
             "pattern": {
              "fillmode": "overlay",
              "size": 10,
              "solidity": 0.2
             }
            },
            "type": "bar"
           }
          ],
          "barpolar": [
           {
            "marker": {
             "line": {
              "color": "#E5ECF6",
              "width": 0.5
             },
             "pattern": {
              "fillmode": "overlay",
              "size": 10,
              "solidity": 0.2
             }
            },
            "type": "barpolar"
           }
          ],
          "carpet": [
           {
            "aaxis": {
             "endlinecolor": "#2a3f5f",
             "gridcolor": "white",
             "linecolor": "white",
             "minorgridcolor": "white",
             "startlinecolor": "#2a3f5f"
            },
            "baxis": {
             "endlinecolor": "#2a3f5f",
             "gridcolor": "white",
             "linecolor": "white",
             "minorgridcolor": "white",
             "startlinecolor": "#2a3f5f"
            },
            "type": "carpet"
           }
          ],
          "choropleth": [
           {
            "colorbar": {
             "outlinewidth": 0,
             "ticks": ""
            },
            "type": "choropleth"
           }
          ],
          "contour": [
           {
            "colorbar": {
             "outlinewidth": 0,
             "ticks": ""
            },
            "colorscale": [
             [
              0,
              "#0d0887"
             ],
             [
              0.1111111111111111,
              "#46039f"
             ],
             [
              0.2222222222222222,
              "#7201a8"
             ],
             [
              0.3333333333333333,
              "#9c179e"
             ],
             [
              0.4444444444444444,
              "#bd3786"
             ],
             [
              0.5555555555555556,
              "#d8576b"
             ],
             [
              0.6666666666666666,
              "#ed7953"
             ],
             [
              0.7777777777777778,
              "#fb9f3a"
             ],
             [
              0.8888888888888888,
              "#fdca26"
             ],
             [
              1,
              "#f0f921"
             ]
            ],
            "type": "contour"
           }
          ],
          "contourcarpet": [
           {
            "colorbar": {
             "outlinewidth": 0,
             "ticks": ""
            },
            "type": "contourcarpet"
           }
          ],
          "heatmap": [
           {
            "colorbar": {
             "outlinewidth": 0,
             "ticks": ""
            },
            "colorscale": [
             [
              0,
              "#0d0887"
             ],
             [
              0.1111111111111111,
              "#46039f"
             ],
             [
              0.2222222222222222,
              "#7201a8"
             ],
             [
              0.3333333333333333,
              "#9c179e"
             ],
             [
              0.4444444444444444,
              "#bd3786"
             ],
             [
              0.5555555555555556,
              "#d8576b"
             ],
             [
              0.6666666666666666,
              "#ed7953"
             ],
             [
              0.7777777777777778,
              "#fb9f3a"
             ],
             [
              0.8888888888888888,
              "#fdca26"
             ],
             [
              1,
              "#f0f921"
             ]
            ],
            "type": "heatmap"
           }
          ],
          "heatmapgl": [
           {
            "colorbar": {
             "outlinewidth": 0,
             "ticks": ""
            },
            "colorscale": [
             [
              0,
              "#0d0887"
             ],
             [
              0.1111111111111111,
              "#46039f"
             ],
             [
              0.2222222222222222,
              "#7201a8"
             ],
             [
              0.3333333333333333,
              "#9c179e"
             ],
             [
              0.4444444444444444,
              "#bd3786"
             ],
             [
              0.5555555555555556,
              "#d8576b"
             ],
             [
              0.6666666666666666,
              "#ed7953"
             ],
             [
              0.7777777777777778,
              "#fb9f3a"
             ],
             [
              0.8888888888888888,
              "#fdca26"
             ],
             [
              1,
              "#f0f921"
             ]
            ],
            "type": "heatmapgl"
           }
          ],
          "histogram": [
           {
            "marker": {
             "pattern": {
              "fillmode": "overlay",
              "size": 10,
              "solidity": 0.2
             }
            },
            "type": "histogram"
           }
          ],
          "histogram2d": [
           {
            "colorbar": {
             "outlinewidth": 0,
             "ticks": ""
            },
            "colorscale": [
             [
              0,
              "#0d0887"
             ],
             [
              0.1111111111111111,
              "#46039f"
             ],
             [
              0.2222222222222222,
              "#7201a8"
             ],
             [
              0.3333333333333333,
              "#9c179e"
             ],
             [
              0.4444444444444444,
              "#bd3786"
             ],
             [
              0.5555555555555556,
              "#d8576b"
             ],
             [
              0.6666666666666666,
              "#ed7953"
             ],
             [
              0.7777777777777778,
              "#fb9f3a"
             ],
             [
              0.8888888888888888,
              "#fdca26"
             ],
             [
              1,
              "#f0f921"
             ]
            ],
            "type": "histogram2d"
           }
          ],
          "histogram2dcontour": [
           {
            "colorbar": {
             "outlinewidth": 0,
             "ticks": ""
            },
            "colorscale": [
             [
              0,
              "#0d0887"
             ],
             [
              0.1111111111111111,
              "#46039f"
             ],
             [
              0.2222222222222222,
              "#7201a8"
             ],
             [
              0.3333333333333333,
              "#9c179e"
             ],
             [
              0.4444444444444444,
              "#bd3786"
             ],
             [
              0.5555555555555556,
              "#d8576b"
             ],
             [
              0.6666666666666666,
              "#ed7953"
             ],
             [
              0.7777777777777778,
              "#fb9f3a"
             ],
             [
              0.8888888888888888,
              "#fdca26"
             ],
             [
              1,
              "#f0f921"
             ]
            ],
            "type": "histogram2dcontour"
           }
          ],
          "mesh3d": [
           {
            "colorbar": {
             "outlinewidth": 0,
             "ticks": ""
            },
            "type": "mesh3d"
           }
          ],
          "parcoords": [
           {
            "line": {
             "colorbar": {
              "outlinewidth": 0,
              "ticks": ""
             }
            },
            "type": "parcoords"
           }
          ],
          "pie": [
           {
            "automargin": true,
            "type": "pie"
           }
          ],
          "scatter": [
           {
            "fillpattern": {
             "fillmode": "overlay",
             "size": 10,
             "solidity": 0.2
            },
            "type": "scatter"
           }
          ],
          "scatter3d": [
           {
            "line": {
             "colorbar": {
              "outlinewidth": 0,
              "ticks": ""
             }
            },
            "marker": {
             "colorbar": {
              "outlinewidth": 0,
              "ticks": ""
             }
            },
            "type": "scatter3d"
           }
          ],
          "scattercarpet": [
           {
            "marker": {
             "colorbar": {
              "outlinewidth": 0,
              "ticks": ""
             }
            },
            "type": "scattercarpet"
           }
          ],
          "scattergeo": [
           {
            "marker": {
             "colorbar": {
              "outlinewidth": 0,
              "ticks": ""
             }
            },
            "type": "scattergeo"
           }
          ],
          "scattergl": [
           {
            "marker": {
             "colorbar": {
              "outlinewidth": 0,
              "ticks": ""
             }
            },
            "type": "scattergl"
           }
          ],
          "scattermapbox": [
           {
            "marker": {
             "colorbar": {
              "outlinewidth": 0,
              "ticks": ""
             }
            },
            "type": "scattermapbox"
           }
          ],
          "scatterpolar": [
           {
            "marker": {
             "colorbar": {
              "outlinewidth": 0,
              "ticks": ""
             }
            },
            "type": "scatterpolar"
           }
          ],
          "scatterpolargl": [
           {
            "marker": {
             "colorbar": {
              "outlinewidth": 0,
              "ticks": ""
             }
            },
            "type": "scatterpolargl"
           }
          ],
          "scatterternary": [
           {
            "marker": {
             "colorbar": {
              "outlinewidth": 0,
              "ticks": ""
             }
            },
            "type": "scatterternary"
           }
          ],
          "surface": [
           {
            "colorbar": {
             "outlinewidth": 0,
             "ticks": ""
            },
            "colorscale": [
             [
              0,
              "#0d0887"
             ],
             [
              0.1111111111111111,
              "#46039f"
             ],
             [
              0.2222222222222222,
              "#7201a8"
             ],
             [
              0.3333333333333333,
              "#9c179e"
             ],
             [
              0.4444444444444444,
              "#bd3786"
             ],
             [
              0.5555555555555556,
              "#d8576b"
             ],
             [
              0.6666666666666666,
              "#ed7953"
             ],
             [
              0.7777777777777778,
              "#fb9f3a"
             ],
             [
              0.8888888888888888,
              "#fdca26"
             ],
             [
              1,
              "#f0f921"
             ]
            ],
            "type": "surface"
           }
          ],
          "table": [
           {
            "cells": {
             "fill": {
              "color": "#EBF0F8"
             },
             "line": {
              "color": "white"
             }
            },
            "header": {
             "fill": {
              "color": "#C8D4E3"
             },
             "line": {
              "color": "white"
             }
            },
            "type": "table"
           }
          ]
         },
         "layout": {
          "annotationdefaults": {
           "arrowcolor": "#2a3f5f",
           "arrowhead": 0,
           "arrowwidth": 1
          },
          "autotypenumbers": "strict",
          "coloraxis": {
           "colorbar": {
            "outlinewidth": 0,
            "ticks": ""
           }
          },
          "colorscale": {
           "diverging": [
            [
             0,
             "#8e0152"
            ],
            [
             0.1,
             "#c51b7d"
            ],
            [
             0.2,
             "#de77ae"
            ],
            [
             0.3,
             "#f1b6da"
            ],
            [
             0.4,
             "#fde0ef"
            ],
            [
             0.5,
             "#f7f7f7"
            ],
            [
             0.6,
             "#e6f5d0"
            ],
            [
             0.7,
             "#b8e186"
            ],
            [
             0.8,
             "#7fbc41"
            ],
            [
             0.9,
             "#4d9221"
            ],
            [
             1,
             "#276419"
            ]
           ],
           "sequential": [
            [
             0,
             "#0d0887"
            ],
            [
             0.1111111111111111,
             "#46039f"
            ],
            [
             0.2222222222222222,
             "#7201a8"
            ],
            [
             0.3333333333333333,
             "#9c179e"
            ],
            [
             0.4444444444444444,
             "#bd3786"
            ],
            [
             0.5555555555555556,
             "#d8576b"
            ],
            [
             0.6666666666666666,
             "#ed7953"
            ],
            [
             0.7777777777777778,
             "#fb9f3a"
            ],
            [
             0.8888888888888888,
             "#fdca26"
            ],
            [
             1,
             "#f0f921"
            ]
           ],
           "sequentialminus": [
            [
             0,
             "#0d0887"
            ],
            [
             0.1111111111111111,
             "#46039f"
            ],
            [
             0.2222222222222222,
             "#7201a8"
            ],
            [
             0.3333333333333333,
             "#9c179e"
            ],
            [
             0.4444444444444444,
             "#bd3786"
            ],
            [
             0.5555555555555556,
             "#d8576b"
            ],
            [
             0.6666666666666666,
             "#ed7953"
            ],
            [
             0.7777777777777778,
             "#fb9f3a"
            ],
            [
             0.8888888888888888,
             "#fdca26"
            ],
            [
             1,
             "#f0f921"
            ]
           ]
          },
          "colorway": [
           "#636efa",
           "#EF553B",
           "#00cc96",
           "#ab63fa",
           "#FFA15A",
           "#19d3f3",
           "#FF6692",
           "#B6E880",
           "#FF97FF",
           "#FECB52"
          ],
          "font": {
           "color": "#2a3f5f"
          },
          "geo": {
           "bgcolor": "white",
           "lakecolor": "white",
           "landcolor": "#E5ECF6",
           "showlakes": true,
           "showland": true,
           "subunitcolor": "white"
          },
          "hoverlabel": {
           "align": "left"
          },
          "hovermode": "closest",
          "mapbox": {
           "style": "light"
          },
          "paper_bgcolor": "white",
          "plot_bgcolor": "#E5ECF6",
          "polar": {
           "angularaxis": {
            "gridcolor": "white",
            "linecolor": "white",
            "ticks": ""
           },
           "bgcolor": "#E5ECF6",
           "radialaxis": {
            "gridcolor": "white",
            "linecolor": "white",
            "ticks": ""
           }
          },
          "scene": {
           "xaxis": {
            "backgroundcolor": "#E5ECF6",
            "gridcolor": "white",
            "gridwidth": 2,
            "linecolor": "white",
            "showbackground": true,
            "ticks": "",
            "zerolinecolor": "white"
           },
           "yaxis": {
            "backgroundcolor": "#E5ECF6",
            "gridcolor": "white",
            "gridwidth": 2,
            "linecolor": "white",
            "showbackground": true,
            "ticks": "",
            "zerolinecolor": "white"
           },
           "zaxis": {
            "backgroundcolor": "#E5ECF6",
            "gridcolor": "white",
            "gridwidth": 2,
            "linecolor": "white",
            "showbackground": true,
            "ticks": "",
            "zerolinecolor": "white"
           }
          },
          "shapedefaults": {
           "line": {
            "color": "#2a3f5f"
           }
          },
          "ternary": {
           "aaxis": {
            "gridcolor": "white",
            "linecolor": "white",
            "ticks": ""
           },
           "baxis": {
            "gridcolor": "white",
            "linecolor": "white",
            "ticks": ""
           },
           "bgcolor": "#E5ECF6",
           "caxis": {
            "gridcolor": "white",
            "linecolor": "white",
            "ticks": ""
           }
          },
          "title": {
           "x": 0.05
          },
          "xaxis": {
           "automargin": true,
           "gridcolor": "white",
           "linecolor": "white",
           "ticks": "",
           "title": {
            "standoff": 15
           },
           "zerolinecolor": "white",
           "zerolinewidth": 2
          },
          "yaxis": {
           "automargin": true,
           "gridcolor": "white",
           "linecolor": "white",
           "ticks": "",
           "title": {
            "standoff": 15
           },
           "zerolinecolor": "white",
           "zerolinewidth": 2
          }
         }
        }
       }
      },
      "text/html": [
       "<div>                            <div id=\"3460d256-e230-442c-b595-47a6968adad3\" class=\"plotly-graph-div\" style=\"height:525px; width:100%;\"></div>            <script type=\"text/javascript\">                require([\"plotly\"], function(Plotly) {                    window.PLOTLYENV=window.PLOTLYENV || {};                                    if (document.getElementById(\"3460d256-e230-442c-b595-47a6968adad3\")) {                    Plotly.newPlot(                        \"3460d256-e230-442c-b595-47a6968adad3\",                        [{\"autocolorscale\":false,\"colorbar\":{\"title\":{\"text\":\"Quantidade (L)\"}},\"colorscale\":[[0.0,\"rgb(255,245,240)\"],[0.125,\"rgb(254,224,210)\"],[0.25,\"rgb(252,187,161)\"],[0.375,\"rgb(252,146,114)\"],[0.5,\"rgb(251,106,74)\"],[0.625,\"rgb(239,59,44)\"],[0.75,\"rgb(203,24,29)\"],[0.875,\"rgb(165,15,21)\"],[1.0,\"rgb(103,0,13)\"]],\"locations\":[\"AFG\",\"AGO\",\"AIA\",\"ATG\",\"ARG\",\"ABW\",\"AUS\",\"AUT\",\"BHR\",\"BGD\",\"BRB\",\"BEL\",\"BLZ\",\"BEN\",\"BOL\",\"BIH\",\"BRA\",\"BGR\",\"CMR\",\"CAN\",\"CYM\",\"CHL\",\"CHN\",\"COL\",\"COM\",\"CRI\",\"HRV\",\"CUB\",\"CUW\",\"CYP\",\"CZE\",\"DNK\",\"DMA\",\"DOM\",\"ECU\",\"SLV\",\"GNQ\",\"EST\",\"FIN\",\"FRA\",\"DEU\",\"GHA\",\"GIB\",\"GRC\",\"GTM\",\"GNB\",\"GUY\",\"HTI\",\"HND\",\"HKG\",\"HUN\",\"IND\",\"IDN\",\"IRN\",\"IRQ\",\"IRL\",\"IMN\",\"ITA\",\"JAM\",\"JPN\",\"JOR\",\"KEN\",\"LVA\",\"LBN\",\"LBR\",\"LUX\",\"MYS\",\"MLT\",\"MHL\",\"MRT\",\"MEX\",\"MNE\",\"NAM\",\"NLD\",\"NCL\",\"NZL\",\"NIC\",\"NGA\",\"NOR\",\"PAN\",\"PRY\",\"PER\",\"PHL\",\"POL\",\"PRT\",\"PRI\",\"QAT\",\"RUS\",\"VCT\",\"STP\",\"SEN\",\"SLE\",\"SGP\",\"SGP\",\"ZAF\",\"ESP\",\"SUR\",\"SWE\",\"CHE\",\"TWN\",\"TZA\",\"THA\",\"TGO\",\"TTO\",\"TUN\",\"TUR\",\"TUV\",\"ARE\",\"GBR\",\"USA\",\"URY\",\"VUT\",\"VEN\",\"VNM\",\"VGB\"],\"marker\":{\"line\":{\"color\":\"black\",\"width\":0.5}},\"reversescale\":false,\"text\":[\"Afghanistan\",\"Angola\",\"Anguilla\",\"Antigua and Barbuda\",\"Argentina\",\"Aruba\",\"Australia\",\"Austria\",\"Bahrain\",\"Bangladesh\",\"Barbados\",\"Belgium\",\"Belize\",\"Benin\",\"Bolivia\",\"Bosnia and Herzegovina\",\"Brazil\",\"Bulgaria\",\"Cameroon\",\"Canada\",\"Cayman Islands\",\"Chile\",\"China\",\"Colombia\",\"Comoros\",\"Costa Rica\",\"Croatia\",\"Cuba\",\"Curacao\",\"Cyprus\",\"Czech Republic\",\"Denmark\",\"Dominica\",\"Dominican Republic\",\"Ecuador\",\"El Salvador\",\"Equatorial Guinea\",\"Estonia\",\"Finland\",\"France\",\"Germany\",\"Ghana\",\"Gibraltar\",\"Greece\",\"Guatemala\",\"Guinea-Bissau\",\"Guyana\",\"Haiti\",\"Honduras\",\"Hong Kong\",\"Hungary\",\"India\",\"Indonesia\",\"Iran\",\"Iraq\",\"Ireland\",\"Isle of Man\",\"Italy\",\"Jamaica\",\"Japan\",\"Jordan\",\"Kenya\",\"Latvia\",\"Lebanon\",\"Liberia\",\"Luxembourg\",\"Malaysia\",\"Malta\",\"Marshall Islands\",\"Mauritania\",\"Mexico\",\"Montenegro\",\"Namibia\",\"Netherlands\",\"New Caledonia\",\"New Zealand\",\"Nicaragua\",\"Nigeria\",\"Norway\",\"Panama\",\"Paraguay\",\"Peru\",\"Philippines\",\"Poland\",\"Portugal\",\"Puerto Rico\",\"Qatar\",\"Russia\",\"Saint Vincent and the Grenadines\",\"Sao Tome and Principe\",\"Senegal\",\"Sierra Leone\",\"Singapore\",\"Singapore\",\"South Africa\",\"Spain\",\"Suriname\",\"Sweden\",\"Switzerland\",\"Taiwan\",\"Tanzania\",\"Thailand\",\"Togo\",\"Trinidad and Tobago\",\"Tunisia\",\"Turkey\",\"Tuvalu\",\"United Arab Emirates\",\"United Kingdom\",\"United States\",\"Uruguay\",\"Vanuatu\",\"Venezuela\",\"Vietnam\",\"Virgin Islands\"],\"z\":[11,164800,0,1685,50532,1350,273230,675,792,5,395,401839,9,15399,171891,45,31,117,1749,194308,265,21111,2404063,35669,9,55,21,271028,150446,5284,65224,78102,460,0,3782,55,20684,30071,86763,311859,901421,66229,792,8560,18964,48,4569,1238100,176,139761,627,71,5,137,0,16970,136,24468,0,1144368,12,6871,387,0,17808,66505,63,11095,23113,9,6320,32,340,1229120,7227,13967,24,129407,31644,50666,24138100,24668,13847,154475,417668,0,13339,38963753,8,2184,0,15783,27567,4504,30,1993000,25876,98530,151310,76081,0,2004,7050,891,0,818,2,12531,1220716,3342982,155478,18,32295,9669,0],\"type\":\"choropleth\"}],                        {\"template\":{\"data\":{\"histogram2dcontour\":[{\"type\":\"histogram2dcontour\",\"colorbar\":{\"outlinewidth\":0,\"ticks\":\"\"},\"colorscale\":[[0.0,\"#0d0887\"],[0.1111111111111111,\"#46039f\"],[0.2222222222222222,\"#7201a8\"],[0.3333333333333333,\"#9c179e\"],[0.4444444444444444,\"#bd3786\"],[0.5555555555555556,\"#d8576b\"],[0.6666666666666666,\"#ed7953\"],[0.7777777777777778,\"#fb9f3a\"],[0.8888888888888888,\"#fdca26\"],[1.0,\"#f0f921\"]]}],\"choropleth\":[{\"type\":\"choropleth\",\"colorbar\":{\"outlinewidth\":0,\"ticks\":\"\"}}],\"histogram2d\":[{\"type\":\"histogram2d\",\"colorbar\":{\"outlinewidth\":0,\"ticks\":\"\"},\"colorscale\":[[0.0,\"#0d0887\"],[0.1111111111111111,\"#46039f\"],[0.2222222222222222,\"#7201a8\"],[0.3333333333333333,\"#9c179e\"],[0.4444444444444444,\"#bd3786\"],[0.5555555555555556,\"#d8576b\"],[0.6666666666666666,\"#ed7953\"],[0.7777777777777778,\"#fb9f3a\"],[0.8888888888888888,\"#fdca26\"],[1.0,\"#f0f921\"]]}],\"heatmap\":[{\"type\":\"heatmap\",\"colorbar\":{\"outlinewidth\":0,\"ticks\":\"\"},\"colorscale\":[[0.0,\"#0d0887\"],[0.1111111111111111,\"#46039f\"],[0.2222222222222222,\"#7201a8\"],[0.3333333333333333,\"#9c179e\"],[0.4444444444444444,\"#bd3786\"],[0.5555555555555556,\"#d8576b\"],[0.6666666666666666,\"#ed7953\"],[0.7777777777777778,\"#fb9f3a\"],[0.8888888888888888,\"#fdca26\"],[1.0,\"#f0f921\"]]}],\"heatmapgl\":[{\"type\":\"heatmapgl\",\"colorbar\":{\"outlinewidth\":0,\"ticks\":\"\"},\"colorscale\":[[0.0,\"#0d0887\"],[0.1111111111111111,\"#46039f\"],[0.2222222222222222,\"#7201a8\"],[0.3333333333333333,\"#9c179e\"],[0.4444444444444444,\"#bd3786\"],[0.5555555555555556,\"#d8576b\"],[0.6666666666666666,\"#ed7953\"],[0.7777777777777778,\"#fb9f3a\"],[0.8888888888888888,\"#fdca26\"],[1.0,\"#f0f921\"]]}],\"contourcarpet\":[{\"type\":\"contourcarpet\",\"colorbar\":{\"outlinewidth\":0,\"ticks\":\"\"}}],\"contour\":[{\"type\":\"contour\",\"colorbar\":{\"outlinewidth\":0,\"ticks\":\"\"},\"colorscale\":[[0.0,\"#0d0887\"],[0.1111111111111111,\"#46039f\"],[0.2222222222222222,\"#7201a8\"],[0.3333333333333333,\"#9c179e\"],[0.4444444444444444,\"#bd3786\"],[0.5555555555555556,\"#d8576b\"],[0.6666666666666666,\"#ed7953\"],[0.7777777777777778,\"#fb9f3a\"],[0.8888888888888888,\"#fdca26\"],[1.0,\"#f0f921\"]]}],\"surface\":[{\"type\":\"surface\",\"colorbar\":{\"outlinewidth\":0,\"ticks\":\"\"},\"colorscale\":[[0.0,\"#0d0887\"],[0.1111111111111111,\"#46039f\"],[0.2222222222222222,\"#7201a8\"],[0.3333333333333333,\"#9c179e\"],[0.4444444444444444,\"#bd3786\"],[0.5555555555555556,\"#d8576b\"],[0.6666666666666666,\"#ed7953\"],[0.7777777777777778,\"#fb9f3a\"],[0.8888888888888888,\"#fdca26\"],[1.0,\"#f0f921\"]]}],\"mesh3d\":[{\"type\":\"mesh3d\",\"colorbar\":{\"outlinewidth\":0,\"ticks\":\"\"}}],\"scatter\":[{\"fillpattern\":{\"fillmode\":\"overlay\",\"size\":10,\"solidity\":0.2},\"type\":\"scatter\"}],\"parcoords\":[{\"type\":\"parcoords\",\"line\":{\"colorbar\":{\"outlinewidth\":0,\"ticks\":\"\"}}}],\"scatterpolargl\":[{\"type\":\"scatterpolargl\",\"marker\":{\"colorbar\":{\"outlinewidth\":0,\"ticks\":\"\"}}}],\"bar\":[{\"error_x\":{\"color\":\"#2a3f5f\"},\"error_y\":{\"color\":\"#2a3f5f\"},\"marker\":{\"line\":{\"color\":\"#E5ECF6\",\"width\":0.5},\"pattern\":{\"fillmode\":\"overlay\",\"size\":10,\"solidity\":0.2}},\"type\":\"bar\"}],\"scattergeo\":[{\"type\":\"scattergeo\",\"marker\":{\"colorbar\":{\"outlinewidth\":0,\"ticks\":\"\"}}}],\"scatterpolar\":[{\"type\":\"scatterpolar\",\"marker\":{\"colorbar\":{\"outlinewidth\":0,\"ticks\":\"\"}}}],\"histogram\":[{\"marker\":{\"pattern\":{\"fillmode\":\"overlay\",\"size\":10,\"solidity\":0.2}},\"type\":\"histogram\"}],\"scattergl\":[{\"type\":\"scattergl\",\"marker\":{\"colorbar\":{\"outlinewidth\":0,\"ticks\":\"\"}}}],\"scatter3d\":[{\"type\":\"scatter3d\",\"line\":{\"colorbar\":{\"outlinewidth\":0,\"ticks\":\"\"}},\"marker\":{\"colorbar\":{\"outlinewidth\":0,\"ticks\":\"\"}}}],\"scattermapbox\":[{\"type\":\"scattermapbox\",\"marker\":{\"colorbar\":{\"outlinewidth\":0,\"ticks\":\"\"}}}],\"scatterternary\":[{\"type\":\"scatterternary\",\"marker\":{\"colorbar\":{\"outlinewidth\":0,\"ticks\":\"\"}}}],\"scattercarpet\":[{\"type\":\"scattercarpet\",\"marker\":{\"colorbar\":{\"outlinewidth\":0,\"ticks\":\"\"}}}],\"carpet\":[{\"aaxis\":{\"endlinecolor\":\"#2a3f5f\",\"gridcolor\":\"white\",\"linecolor\":\"white\",\"minorgridcolor\":\"white\",\"startlinecolor\":\"#2a3f5f\"},\"baxis\":{\"endlinecolor\":\"#2a3f5f\",\"gridcolor\":\"white\",\"linecolor\":\"white\",\"minorgridcolor\":\"white\",\"startlinecolor\":\"#2a3f5f\"},\"type\":\"carpet\"}],\"table\":[{\"cells\":{\"fill\":{\"color\":\"#EBF0F8\"},\"line\":{\"color\":\"white\"}},\"header\":{\"fill\":{\"color\":\"#C8D4E3\"},\"line\":{\"color\":\"white\"}},\"type\":\"table\"}],\"barpolar\":[{\"marker\":{\"line\":{\"color\":\"#E5ECF6\",\"width\":0.5},\"pattern\":{\"fillmode\":\"overlay\",\"size\":10,\"solidity\":0.2}},\"type\":\"barpolar\"}],\"pie\":[{\"automargin\":true,\"type\":\"pie\"}]},\"layout\":{\"autotypenumbers\":\"strict\",\"colorway\":[\"#636efa\",\"#EF553B\",\"#00cc96\",\"#ab63fa\",\"#FFA15A\",\"#19d3f3\",\"#FF6692\",\"#B6E880\",\"#FF97FF\",\"#FECB52\"],\"font\":{\"color\":\"#2a3f5f\"},\"hovermode\":\"closest\",\"hoverlabel\":{\"align\":\"left\"},\"paper_bgcolor\":\"white\",\"plot_bgcolor\":\"#E5ECF6\",\"polar\":{\"bgcolor\":\"#E5ECF6\",\"angularaxis\":{\"gridcolor\":\"white\",\"linecolor\":\"white\",\"ticks\":\"\"},\"radialaxis\":{\"gridcolor\":\"white\",\"linecolor\":\"white\",\"ticks\":\"\"}},\"ternary\":{\"bgcolor\":\"#E5ECF6\",\"aaxis\":{\"gridcolor\":\"white\",\"linecolor\":\"white\",\"ticks\":\"\"},\"baxis\":{\"gridcolor\":\"white\",\"linecolor\":\"white\",\"ticks\":\"\"},\"caxis\":{\"gridcolor\":\"white\",\"linecolor\":\"white\",\"ticks\":\"\"}},\"coloraxis\":{\"colorbar\":{\"outlinewidth\":0,\"ticks\":\"\"}},\"colorscale\":{\"sequential\":[[0.0,\"#0d0887\"],[0.1111111111111111,\"#46039f\"],[0.2222222222222222,\"#7201a8\"],[0.3333333333333333,\"#9c179e\"],[0.4444444444444444,\"#bd3786\"],[0.5555555555555556,\"#d8576b\"],[0.6666666666666666,\"#ed7953\"],[0.7777777777777778,\"#fb9f3a\"],[0.8888888888888888,\"#fdca26\"],[1.0,\"#f0f921\"]],\"sequentialminus\":[[0.0,\"#0d0887\"],[0.1111111111111111,\"#46039f\"],[0.2222222222222222,\"#7201a8\"],[0.3333333333333333,\"#9c179e\"],[0.4444444444444444,\"#bd3786\"],[0.5555555555555556,\"#d8576b\"],[0.6666666666666666,\"#ed7953\"],[0.7777777777777778,\"#fb9f3a\"],[0.8888888888888888,\"#fdca26\"],[1.0,\"#f0f921\"]],\"diverging\":[[0,\"#8e0152\"],[0.1,\"#c51b7d\"],[0.2,\"#de77ae\"],[0.3,\"#f1b6da\"],[0.4,\"#fde0ef\"],[0.5,\"#f7f7f7\"],[0.6,\"#e6f5d0\"],[0.7,\"#b8e186\"],[0.8,\"#7fbc41\"],[0.9,\"#4d9221\"],[1,\"#276419\"]]},\"xaxis\":{\"gridcolor\":\"white\",\"linecolor\":\"white\",\"ticks\":\"\",\"title\":{\"standoff\":15},\"zerolinecolor\":\"white\",\"automargin\":true,\"zerolinewidth\":2},\"yaxis\":{\"gridcolor\":\"white\",\"linecolor\":\"white\",\"ticks\":\"\",\"title\":{\"standoff\":15},\"zerolinecolor\":\"white\",\"automargin\":true,\"zerolinewidth\":2},\"scene\":{\"xaxis\":{\"backgroundcolor\":\"#E5ECF6\",\"gridcolor\":\"white\",\"linecolor\":\"white\",\"showbackground\":true,\"ticks\":\"\",\"zerolinecolor\":\"white\",\"gridwidth\":2},\"yaxis\":{\"backgroundcolor\":\"#E5ECF6\",\"gridcolor\":\"white\",\"linecolor\":\"white\",\"showbackground\":true,\"ticks\":\"\",\"zerolinecolor\":\"white\",\"gridwidth\":2},\"zaxis\":{\"backgroundcolor\":\"#E5ECF6\",\"gridcolor\":\"white\",\"linecolor\":\"white\",\"showbackground\":true,\"ticks\":\"\",\"zerolinecolor\":\"white\",\"gridwidth\":2}},\"shapedefaults\":{\"line\":{\"color\":\"#2a3f5f\"}},\"annotationdefaults\":{\"arrowcolor\":\"#2a3f5f\",\"arrowhead\":0,\"arrowwidth\":1},\"geo\":{\"bgcolor\":\"white\",\"landcolor\":\"#E5ECF6\",\"subunitcolor\":\"white\",\"showland\":true,\"showlakes\":true,\"lakecolor\":\"white\"},\"title\":{\"x\":0.05},\"mapbox\":{\"style\":\"light\"}}}},                        {\"responsive\": true}                    ).then(function(){\n",
       "                            \n",
       "var gd = document.getElementById('3460d256-e230-442c-b595-47a6968adad3');\n",
       "var x = new MutationObserver(function (mutations, observer) {{\n",
       "        var display = window.getComputedStyle(gd).display;\n",
       "        if (!display || display === 'none') {{\n",
       "            console.log([gd, 'removed!']);\n",
       "            Plotly.purge(gd);\n",
       "            observer.disconnect();\n",
       "        }}\n",
       "}});\n",
       "\n",
       "// Listen for the removal of the full notebook cells\n",
       "var notebookContainer = gd.closest('#notebook-container');\n",
       "if (notebookContainer) {{\n",
       "    x.observe(notebookContainer, {childList: true});\n",
       "}}\n",
       "\n",
       "// Listen for the clearing of the current output cell\n",
       "var outputEl = gd.closest('.output');\n",
       "if (outputEl) {{\n",
       "    x.observe(outputEl, {childList: true});\n",
       "}}\n",
       "\n",
       "                        })                };                });            </script>        </div>"
      ]
     },
     "metadata": {},
     "output_type": "display_data"
    }
   ],
   "source": [
    "fig = go.Figure(data=go.Choropleth(\n",
    "    locations = df_plotly['CODE'],\n",
    "    z = df_plotly['quantidade'],\n",
    "    text = df_plotly['pais_en'],\n",
    "    colorscale = 'Reds',\n",
    "    autocolorscale=False,\n",
    "    reversescale=False,\n",
    "    marker_line_color='black',\n",
    "    marker_line_width=0.5,\n",
    "    colorbar_title = 'Quantidade (L)',\n",
    "))\n",
    "\n",
    "fig.show()"
   ]
  },
  {
   "cell_type": "markdown",
   "id": "08320713",
   "metadata": {},
   "source": [
    "Verificando Indicadores socioeconomicos do paraguai e outros paises"
   ]
  },
  {
   "cell_type": "code",
   "execution_count": 71,
   "id": "af541916",
   "metadata": {},
   "outputs": [],
   "source": [
    "df_econ = pd.read_excel(\"C:/Users/lucaa/Desktop/Pós Tech Data Analytics/Fase 1/Tech Challenge/Data/content/GDP.xlsx\", sheet_name = \"Planilha1\") \\\n",
    "    .transform(lambda x: x.strip() if type(x) == str else x) "
   ]
  },
  {
   "cell_type": "code",
   "execution_count": 52,
   "id": "acfd3a80",
   "metadata": {},
   "outputs": [],
   "source": [
    "#Safras Import:\n",
    "safras_econ = [x for x in range(2006, 2023)]\n",
    "#Transpondo Valores:\n",
    "df_econ_t = pd.DataFrame()\n",
    "for p in df_econ[\"Country\"]:\n",
    "    temp = df_econ.copy() \\\n",
    "        .query(\"Country == @p\").T \\\n",
    "        .reset_index() \\\n",
    "        .query(\"index != 'Country'\")\n",
    "    temp.columns = [\"safras\", \"total_importado\"]\n",
    "    temp[\"safras\"] = temp[\"safras\"].astype(int)\n",
    "    temp[\"pais\"] = p\n",
    "    df_econ_t =pd.concat([df_econ_t, temp[[\"pais\", \"safras\", \"total_importado\"]]])"
   ]
  },
  {
   "cell_type": "code",
   "execution_count": 53,
   "id": "c4456ca3",
   "metadata": {},
   "outputs": [],
   "source": [
    "df_econ_t.copy().query(\"pais in ['Paraguay', 'United States', 'Russian Federation']\").to_clipboard(index = False)"
   ]
  },
  {
   "cell_type": "markdown",
   "id": "f23e74e5",
   "metadata": {},
   "source": [
    "Vamos tentar extrapolar linearmente as exportações do futuro."
   ]
  },
  {
   "cell_type": "code",
   "execution_count": 65,
   "id": "63e96ff1",
   "metadata": {},
   "outputs": [],
   "source": [
    "#Totais por Safra:\n",
    "df_futura = df_vinhos_ajustada \\\n",
    "    .groupby(\"safra\") \\\n",
    "    .agg({\"quantidade\": \"sum\", \"valor\": \"sum\"}) \\\n",
    "    .reset_index()"
   ]
  },
  {
   "cell_type": "code",
   "execution_count": 66,
   "id": "553324f3",
   "metadata": {},
   "outputs": [],
   "source": [
    "df_futura.to_clipboard(index = False)"
   ]
  }
 ],
 "metadata": {
  "kernelspec": {
   "display_name": "Python 3 (ipykernel)",
   "language": "python",
   "name": "python3"
  },
  "language_info": {
   "codemirror_mode": {
    "name": "ipython",
    "version": 3
   },
   "file_extension": ".py",
   "mimetype": "text/x-python",
   "name": "python",
   "nbconvert_exporter": "python",
   "pygments_lexer": "ipython3",
   "version": "3.10.1"
  }
 },
 "nbformat": 4,
 "nbformat_minor": 5
}
